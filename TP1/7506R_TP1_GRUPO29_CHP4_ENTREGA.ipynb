{
  "cells": [
    {
      "cell_type": "markdown",
      "metadata": {
        "id": "oBwuU2sqcyMU"
      },
      "source": [
        "# Redes Neuronales\n"
      ]
    },
    {
      "cell_type": "markdown",
      "metadata": {
        "id": "RAN0rkqcdTGp"
      },
      "source": [
        "Importamos las librerias correspondientes"
      ]
    },
    {
      "cell_type": "code",
      "execution_count": null,
      "metadata": {
        "id": "brANllGfZ8_B"
      },
      "outputs": [],
      "source": [
        "import matplotlib.pyplot as plt\n",
        "import seaborn as sns\n",
        "\n",
        "import pandas as pd\n",
        "import numpy as np\n",
        "\n",
        "from sklearn.metrics import (accuracy_score, classification_report,\n",
        "                             confusion_matrix, f1_score, precision_score,\n",
        "                             recall_score, make_scorer)\n",
        "from sklearn.preprocessing import StandardScaler\n",
        "from sklearn.model_selection import train_test_split\n",
        "\n",
        "\n",
        "import tensorflow as tf\n",
        "from tensorflow import keras\n",
        "\n",
        "\n",
        "np.random.seed(50)\n",
        "tf.random.set_seed(1)\n",
        "\n",
        "import warnings\n",
        "warnings.filterwarnings(\"ignore\", category=DeprecationWarning)\n",
        "\n"
      ]
    },
    {
      "cell_type": "code",
      "execution_count": null,
      "metadata": {
        "colab": {
          "base_uri": "https://localhost:8080/"
        },
        "id": "sW6oRt1VGHs-",
        "outputId": "178dfc0a-8155-40cf-a610-89ac12cf978a"
      },
      "outputs": [
        {
          "output_type": "stream",
          "name": "stdout",
          "text": [
            "Requirement already satisfied: scikeras in /usr/local/lib/python3.10/dist-packages (0.12.0)\n",
            "Requirement already satisfied: packaging>=0.21 in /usr/local/lib/python3.10/dist-packages (from scikeras) (23.2)\n",
            "Requirement already satisfied: scikit-learn>=1.0.0 in /usr/local/lib/python3.10/dist-packages (from scikeras) (1.2.2)\n",
            "Requirement already satisfied: numpy>=1.17.3 in /usr/local/lib/python3.10/dist-packages (from scikit-learn>=1.0.0->scikeras) (1.23.5)\n",
            "Requirement already satisfied: scipy>=1.3.2 in /usr/local/lib/python3.10/dist-packages (from scikit-learn>=1.0.0->scikeras) (1.11.3)\n",
            "Requirement already satisfied: joblib>=1.1.1 in /usr/local/lib/python3.10/dist-packages (from scikit-learn>=1.0.0->scikeras) (1.3.2)\n",
            "Requirement already satisfied: threadpoolctl>=2.0.0 in /usr/local/lib/python3.10/dist-packages (from scikit-learn>=1.0.0->scikeras) (3.2.0)\n"
          ]
        }
      ],
      "source": [
        "pip install scikeras\n"
      ]
    },
    {
      "cell_type": "markdown",
      "metadata": {
        "id": "6QUQwSj6dRmI"
      },
      "source": [
        "Importamos los datasets de entrenamiento y testo."
      ]
    },
    {
      "cell_type": "code",
      "execution_count": null,
      "metadata": {
        "colab": {
          "base_uri": "https://localhost:8080/",
          "height": 355
        },
        "id": "DzyHx7bTcO4u",
        "outputId": "f7cd67e7-cb9c-4c7d-be30-756686ce21a2"
      },
      "outputs": [
        {
          "output_type": "execute_result",
          "data": {
            "text/plain": [
              "   Unnamed: 0         hotel   lead_time  arrival_date_year arrival_date_month  \\\n",
              "0           0    City Hotel  112.259683               2016          September   \n",
              "1           1  Resort Hotel  112.259683               2015            October   \n",
              "2           2    City Hotel  112.259683               2016            October   \n",
              "3           3    City Hotel  112.259683               2016           December   \n",
              "4           4    City Hotel  112.259683               2017              March   \n",
              "\n",
              "   arrival_date_day_of_month  stays_in_weekend_nights  stays_in_week_nights  \\\n",
              "0                          5                      1.0                     2   \n",
              "1                         31                      0.0                     1   \n",
              "2                         13                      0.0                     1   \n",
              "3                         12                      2.0                     5   \n",
              "4                         19                      2.0                     5   \n",
              "\n",
              "     adults  children  ...  deposit_type   agent company days_in_waiting_list  \\\n",
              "0  1.865199       0.0  ...    No Deposit     9.0 -9999.0                    0   \n",
              "1  1.865199       0.0  ...    No Deposit -9999.0 -9999.0                    0   \n",
              "2  1.865199       2.0  ...    No Deposit     9.0 -9999.0                    0   \n",
              "3  1.865199       0.0  ...    Non Refund   154.0 -9999.0                    0   \n",
              "4  1.865199       0.0  ...    No Deposit    20.0 -9999.0                    0   \n",
              "\n",
              "     customer_type         adr  required_car_parking_spaces  \\\n",
              "0        Transient  102.550188                            0   \n",
              "1        Transient  102.550188                            1   \n",
              "2        Transient  102.550188                            0   \n",
              "3        Transient  102.550188                            0   \n",
              "4  Transient-Party  102.550188                            0   \n",
              "\n",
              "   total_of_special_requests is_canceled scores  \n",
              "0                          1           1   -1.0  \n",
              "1                          0           0   -1.0  \n",
              "2                          2           0   -1.0  \n",
              "3                          0           1   -1.0  \n",
              "4                          1           0   -1.0  \n",
              "\n",
              "[5 rows x 31 columns]"
            ],
            "text/html": [
              "\n",
              "  <div id=\"df-9fe16526-1dce-4da2-a40d-cfb426044444\" class=\"colab-df-container\">\n",
              "    <div>\n",
              "<style scoped>\n",
              "    .dataframe tbody tr th:only-of-type {\n",
              "        vertical-align: middle;\n",
              "    }\n",
              "\n",
              "    .dataframe tbody tr th {\n",
              "        vertical-align: top;\n",
              "    }\n",
              "\n",
              "    .dataframe thead th {\n",
              "        text-align: right;\n",
              "    }\n",
              "</style>\n",
              "<table border=\"1\" class=\"dataframe\">\n",
              "  <thead>\n",
              "    <tr style=\"text-align: right;\">\n",
              "      <th></th>\n",
              "      <th>Unnamed: 0</th>\n",
              "      <th>hotel</th>\n",
              "      <th>lead_time</th>\n",
              "      <th>arrival_date_year</th>\n",
              "      <th>arrival_date_month</th>\n",
              "      <th>arrival_date_day_of_month</th>\n",
              "      <th>stays_in_weekend_nights</th>\n",
              "      <th>stays_in_week_nights</th>\n",
              "      <th>adults</th>\n",
              "      <th>children</th>\n",
              "      <th>...</th>\n",
              "      <th>deposit_type</th>\n",
              "      <th>agent</th>\n",
              "      <th>company</th>\n",
              "      <th>days_in_waiting_list</th>\n",
              "      <th>customer_type</th>\n",
              "      <th>adr</th>\n",
              "      <th>required_car_parking_spaces</th>\n",
              "      <th>total_of_special_requests</th>\n",
              "      <th>is_canceled</th>\n",
              "      <th>scores</th>\n",
              "    </tr>\n",
              "  </thead>\n",
              "  <tbody>\n",
              "    <tr>\n",
              "      <th>0</th>\n",
              "      <td>0</td>\n",
              "      <td>City Hotel</td>\n",
              "      <td>112.259683</td>\n",
              "      <td>2016</td>\n",
              "      <td>September</td>\n",
              "      <td>5</td>\n",
              "      <td>1.0</td>\n",
              "      <td>2</td>\n",
              "      <td>1.865199</td>\n",
              "      <td>0.0</td>\n",
              "      <td>...</td>\n",
              "      <td>No Deposit</td>\n",
              "      <td>9.0</td>\n",
              "      <td>-9999.0</td>\n",
              "      <td>0</td>\n",
              "      <td>Transient</td>\n",
              "      <td>102.550188</td>\n",
              "      <td>0</td>\n",
              "      <td>1</td>\n",
              "      <td>1</td>\n",
              "      <td>-1.0</td>\n",
              "    </tr>\n",
              "    <tr>\n",
              "      <th>1</th>\n",
              "      <td>1</td>\n",
              "      <td>Resort Hotel</td>\n",
              "      <td>112.259683</td>\n",
              "      <td>2015</td>\n",
              "      <td>October</td>\n",
              "      <td>31</td>\n",
              "      <td>0.0</td>\n",
              "      <td>1</td>\n",
              "      <td>1.865199</td>\n",
              "      <td>0.0</td>\n",
              "      <td>...</td>\n",
              "      <td>No Deposit</td>\n",
              "      <td>-9999.0</td>\n",
              "      <td>-9999.0</td>\n",
              "      <td>0</td>\n",
              "      <td>Transient</td>\n",
              "      <td>102.550188</td>\n",
              "      <td>1</td>\n",
              "      <td>0</td>\n",
              "      <td>0</td>\n",
              "      <td>-1.0</td>\n",
              "    </tr>\n",
              "    <tr>\n",
              "      <th>2</th>\n",
              "      <td>2</td>\n",
              "      <td>City Hotel</td>\n",
              "      <td>112.259683</td>\n",
              "      <td>2016</td>\n",
              "      <td>October</td>\n",
              "      <td>13</td>\n",
              "      <td>0.0</td>\n",
              "      <td>1</td>\n",
              "      <td>1.865199</td>\n",
              "      <td>2.0</td>\n",
              "      <td>...</td>\n",
              "      <td>No Deposit</td>\n",
              "      <td>9.0</td>\n",
              "      <td>-9999.0</td>\n",
              "      <td>0</td>\n",
              "      <td>Transient</td>\n",
              "      <td>102.550188</td>\n",
              "      <td>0</td>\n",
              "      <td>2</td>\n",
              "      <td>0</td>\n",
              "      <td>-1.0</td>\n",
              "    </tr>\n",
              "    <tr>\n",
              "      <th>3</th>\n",
              "      <td>3</td>\n",
              "      <td>City Hotel</td>\n",
              "      <td>112.259683</td>\n",
              "      <td>2016</td>\n",
              "      <td>December</td>\n",
              "      <td>12</td>\n",
              "      <td>2.0</td>\n",
              "      <td>5</td>\n",
              "      <td>1.865199</td>\n",
              "      <td>0.0</td>\n",
              "      <td>...</td>\n",
              "      <td>Non Refund</td>\n",
              "      <td>154.0</td>\n",
              "      <td>-9999.0</td>\n",
              "      <td>0</td>\n",
              "      <td>Transient</td>\n",
              "      <td>102.550188</td>\n",
              "      <td>0</td>\n",
              "      <td>0</td>\n",
              "      <td>1</td>\n",
              "      <td>-1.0</td>\n",
              "    </tr>\n",
              "    <tr>\n",
              "      <th>4</th>\n",
              "      <td>4</td>\n",
              "      <td>City Hotel</td>\n",
              "      <td>112.259683</td>\n",
              "      <td>2017</td>\n",
              "      <td>March</td>\n",
              "      <td>19</td>\n",
              "      <td>2.0</td>\n",
              "      <td>5</td>\n",
              "      <td>1.865199</td>\n",
              "      <td>0.0</td>\n",
              "      <td>...</td>\n",
              "      <td>No Deposit</td>\n",
              "      <td>20.0</td>\n",
              "      <td>-9999.0</td>\n",
              "      <td>0</td>\n",
              "      <td>Transient-Party</td>\n",
              "      <td>102.550188</td>\n",
              "      <td>0</td>\n",
              "      <td>1</td>\n",
              "      <td>0</td>\n",
              "      <td>-1.0</td>\n",
              "    </tr>\n",
              "  </tbody>\n",
              "</table>\n",
              "<p>5 rows × 31 columns</p>\n",
              "</div>\n",
              "    <div class=\"colab-df-buttons\">\n",
              "\n",
              "  <div class=\"colab-df-container\">\n",
              "    <button class=\"colab-df-convert\" onclick=\"convertToInteractive('df-9fe16526-1dce-4da2-a40d-cfb426044444')\"\n",
              "            title=\"Convert this dataframe to an interactive table.\"\n",
              "            style=\"display:none;\">\n",
              "\n",
              "  <svg xmlns=\"http://www.w3.org/2000/svg\" height=\"24px\" viewBox=\"0 -960 960 960\">\n",
              "    <path d=\"M120-120v-720h720v720H120Zm60-500h600v-160H180v160Zm220 220h160v-160H400v160Zm0 220h160v-160H400v160ZM180-400h160v-160H180v160Zm440 0h160v-160H620v160ZM180-180h160v-160H180v160Zm440 0h160v-160H620v160Z\"/>\n",
              "  </svg>\n",
              "    </button>\n",
              "\n",
              "  <style>\n",
              "    .colab-df-container {\n",
              "      display:flex;\n",
              "      gap: 12px;\n",
              "    }\n",
              "\n",
              "    .colab-df-convert {\n",
              "      background-color: #E8F0FE;\n",
              "      border: none;\n",
              "      border-radius: 50%;\n",
              "      cursor: pointer;\n",
              "      display: none;\n",
              "      fill: #1967D2;\n",
              "      height: 32px;\n",
              "      padding: 0 0 0 0;\n",
              "      width: 32px;\n",
              "    }\n",
              "\n",
              "    .colab-df-convert:hover {\n",
              "      background-color: #E2EBFA;\n",
              "      box-shadow: 0px 1px 2px rgba(60, 64, 67, 0.3), 0px 1px 3px 1px rgba(60, 64, 67, 0.15);\n",
              "      fill: #174EA6;\n",
              "    }\n",
              "\n",
              "    .colab-df-buttons div {\n",
              "      margin-bottom: 4px;\n",
              "    }\n",
              "\n",
              "    [theme=dark] .colab-df-convert {\n",
              "      background-color: #3B4455;\n",
              "      fill: #D2E3FC;\n",
              "    }\n",
              "\n",
              "    [theme=dark] .colab-df-convert:hover {\n",
              "      background-color: #434B5C;\n",
              "      box-shadow: 0px 1px 3px 1px rgba(0, 0, 0, 0.15);\n",
              "      filter: drop-shadow(0px 1px 2px rgba(0, 0, 0, 0.3));\n",
              "      fill: #FFFFFF;\n",
              "    }\n",
              "  </style>\n",
              "\n",
              "    <script>\n",
              "      const buttonEl =\n",
              "        document.querySelector('#df-9fe16526-1dce-4da2-a40d-cfb426044444 button.colab-df-convert');\n",
              "      buttonEl.style.display =\n",
              "        google.colab.kernel.accessAllowed ? 'block' : 'none';\n",
              "\n",
              "      async function convertToInteractive(key) {\n",
              "        const element = document.querySelector('#df-9fe16526-1dce-4da2-a40d-cfb426044444');\n",
              "        const dataTable =\n",
              "          await google.colab.kernel.invokeFunction('convertToInteractive',\n",
              "                                                    [key], {});\n",
              "        if (!dataTable) return;\n",
              "\n",
              "        const docLinkHtml = 'Like what you see? Visit the ' +\n",
              "          '<a target=\"_blank\" href=https://colab.research.google.com/notebooks/data_table.ipynb>data table notebook</a>'\n",
              "          + ' to learn more about interactive tables.';\n",
              "        element.innerHTML = '';\n",
              "        dataTable['output_type'] = 'display_data';\n",
              "        await google.colab.output.renderOutput(dataTable, element);\n",
              "        const docLink = document.createElement('div');\n",
              "        docLink.innerHTML = docLinkHtml;\n",
              "        element.appendChild(docLink);\n",
              "      }\n",
              "    </script>\n",
              "  </div>\n",
              "\n",
              "\n",
              "<div id=\"df-bcb79025-e016-4c94-8158-c91e201116c9\">\n",
              "  <button class=\"colab-df-quickchart\" onclick=\"quickchart('df-bcb79025-e016-4c94-8158-c91e201116c9')\"\n",
              "            title=\"Suggest charts.\"\n",
              "            style=\"display:none;\">\n",
              "\n",
              "<svg xmlns=\"http://www.w3.org/2000/svg\" height=\"24px\"viewBox=\"0 0 24 24\"\n",
              "     width=\"24px\">\n",
              "    <g>\n",
              "        <path d=\"M19 3H5c-1.1 0-2 .9-2 2v14c0 1.1.9 2 2 2h14c1.1 0 2-.9 2-2V5c0-1.1-.9-2-2-2zM9 17H7v-7h2v7zm4 0h-2V7h2v10zm4 0h-2v-4h2v4z\"/>\n",
              "    </g>\n",
              "</svg>\n",
              "  </button>\n",
              "\n",
              "<style>\n",
              "  .colab-df-quickchart {\n",
              "      --bg-color: #E8F0FE;\n",
              "      --fill-color: #1967D2;\n",
              "      --hover-bg-color: #E2EBFA;\n",
              "      --hover-fill-color: #174EA6;\n",
              "      --disabled-fill-color: #AAA;\n",
              "      --disabled-bg-color: #DDD;\n",
              "  }\n",
              "\n",
              "  [theme=dark] .colab-df-quickchart {\n",
              "      --bg-color: #3B4455;\n",
              "      --fill-color: #D2E3FC;\n",
              "      --hover-bg-color: #434B5C;\n",
              "      --hover-fill-color: #FFFFFF;\n",
              "      --disabled-bg-color: #3B4455;\n",
              "      --disabled-fill-color: #666;\n",
              "  }\n",
              "\n",
              "  .colab-df-quickchart {\n",
              "    background-color: var(--bg-color);\n",
              "    border: none;\n",
              "    border-radius: 50%;\n",
              "    cursor: pointer;\n",
              "    display: none;\n",
              "    fill: var(--fill-color);\n",
              "    height: 32px;\n",
              "    padding: 0;\n",
              "    width: 32px;\n",
              "  }\n",
              "\n",
              "  .colab-df-quickchart:hover {\n",
              "    background-color: var(--hover-bg-color);\n",
              "    box-shadow: 0 1px 2px rgba(60, 64, 67, 0.3), 0 1px 3px 1px rgba(60, 64, 67, 0.15);\n",
              "    fill: var(--button-hover-fill-color);\n",
              "  }\n",
              "\n",
              "  .colab-df-quickchart-complete:disabled,\n",
              "  .colab-df-quickchart-complete:disabled:hover {\n",
              "    background-color: var(--disabled-bg-color);\n",
              "    fill: var(--disabled-fill-color);\n",
              "    box-shadow: none;\n",
              "  }\n",
              "\n",
              "  .colab-df-spinner {\n",
              "    border: 2px solid var(--fill-color);\n",
              "    border-color: transparent;\n",
              "    border-bottom-color: var(--fill-color);\n",
              "    animation:\n",
              "      spin 1s steps(1) infinite;\n",
              "  }\n",
              "\n",
              "  @keyframes spin {\n",
              "    0% {\n",
              "      border-color: transparent;\n",
              "      border-bottom-color: var(--fill-color);\n",
              "      border-left-color: var(--fill-color);\n",
              "    }\n",
              "    20% {\n",
              "      border-color: transparent;\n",
              "      border-left-color: var(--fill-color);\n",
              "      border-top-color: var(--fill-color);\n",
              "    }\n",
              "    30% {\n",
              "      border-color: transparent;\n",
              "      border-left-color: var(--fill-color);\n",
              "      border-top-color: var(--fill-color);\n",
              "      border-right-color: var(--fill-color);\n",
              "    }\n",
              "    40% {\n",
              "      border-color: transparent;\n",
              "      border-right-color: var(--fill-color);\n",
              "      border-top-color: var(--fill-color);\n",
              "    }\n",
              "    60% {\n",
              "      border-color: transparent;\n",
              "      border-right-color: var(--fill-color);\n",
              "    }\n",
              "    80% {\n",
              "      border-color: transparent;\n",
              "      border-right-color: var(--fill-color);\n",
              "      border-bottom-color: var(--fill-color);\n",
              "    }\n",
              "    90% {\n",
              "      border-color: transparent;\n",
              "      border-bottom-color: var(--fill-color);\n",
              "    }\n",
              "  }\n",
              "</style>\n",
              "\n",
              "  <script>\n",
              "    async function quickchart(key) {\n",
              "      const quickchartButtonEl =\n",
              "        document.querySelector('#' + key + ' button');\n",
              "      quickchartButtonEl.disabled = true;  // To prevent multiple clicks.\n",
              "      quickchartButtonEl.classList.add('colab-df-spinner');\n",
              "      try {\n",
              "        const charts = await google.colab.kernel.invokeFunction(\n",
              "            'suggestCharts', [key], {});\n",
              "      } catch (error) {\n",
              "        console.error('Error during call to suggestCharts:', error);\n",
              "      }\n",
              "      quickchartButtonEl.classList.remove('colab-df-spinner');\n",
              "      quickchartButtonEl.classList.add('colab-df-quickchart-complete');\n",
              "    }\n",
              "    (() => {\n",
              "      let quickchartButtonEl =\n",
              "        document.querySelector('#df-bcb79025-e016-4c94-8158-c91e201116c9 button');\n",
              "      quickchartButtonEl.style.display =\n",
              "        google.colab.kernel.accessAllowed ? 'block' : 'none';\n",
              "    })();\n",
              "  </script>\n",
              "</div>\n",
              "    </div>\n",
              "  </div>\n"
            ]
          },
          "metadata": {},
          "execution_count": 47
        }
      ],
      "source": [
        "hotels_tr = pd.read_csv(\"hoteles_tr_normalizado.csv\")\n",
        "hotels_tr.head(5)"
      ]
    },
    {
      "cell_type": "markdown",
      "metadata": {
        "id": "-lJB639zdNCj"
      },
      "source": [
        "Normalizamos el dataset de entrenamiento"
      ]
    },
    {
      "cell_type": "code",
      "execution_count": null,
      "metadata": {
        "id": "h6OG0fqOcWNF"
      },
      "outputs": [],
      "source": [
        "hotels_tr.fillna(0, inplace=True)"
      ]
    },
    {
      "cell_type": "code",
      "execution_count": null,
      "metadata": {
        "id": "gmP6vrV2cYF9"
      },
      "outputs": [],
      "source": [
        "month_number_in_season = {\n",
        "    'January': 0,\n",
        "    'February': 0,\n",
        "    'March': 0,\n",
        "    'April': 1,\n",
        "    'May': 1,\n",
        "    'June': 1,\n",
        "    'July': 1,\n",
        "    'August': 1,\n",
        "    'September': 1,\n",
        "    'October': 1,\n",
        "    'November': 0,\n",
        "    'December': 0\n",
        "}\n",
        "hotels_tr['arrival_date_month'] = hotels_tr['arrival_date_month'].map(month_number_in_season)"
      ]
    },
    {
      "cell_type": "code",
      "execution_count": null,
      "metadata": {
        "id": "ERQxnTIdcbRL"
      },
      "outputs": [],
      "source": [
        "country_counts  = hotels_tr[\"country\"].value_counts()\n",
        "\n",
        "# Obtenemos los 10 países principales\n",
        "top_10_countries = country_counts.head(10).index\n",
        "\n",
        "# Reemplazo los países que no están en el top 10 con \"otros\"\n",
        "hotels_tr[\"country\"] = hotels_tr[\"country\"].apply(lambda x: x if x in top_10_countries else \"otros\")"
      ]
    },
    {
      "cell_type": "code",
      "execution_count": null,
      "metadata": {
        "id": "KVTndxY9cckl"
      },
      "outputs": [],
      "source": [
        "variables_categoricas = [\"hotel\",\"arrival_date_month\",\"meal\", \"country\", \"market_segment\",\n",
        "\"distribution_channel\", \"reserved_room_type\", \"assigned_room_type\", \"deposit_type\",\n",
        "\"customer_type\"]\n",
        "\n",
        "\n",
        "target='is_canceled'"
      ]
    },
    {
      "cell_type": "code",
      "execution_count": null,
      "metadata": {
        "colab": {
          "base_uri": "https://localhost:8080/",
          "height": 270
        },
        "id": "HVGr8ZAZcdxS",
        "outputId": "c165bff9-0fc2-4e6e-9976-00cb96ce688c"
      },
      "outputs": [
        {
          "output_type": "execute_result",
          "data": {
            "text/plain": [
              "   Unnamed: 0   lead_time  arrival_date_year  arrival_date_day_of_month  \\\n",
              "0           0  112.259683               2016                          5   \n",
              "1           1  112.259683               2015                         31   \n",
              "2           2  112.259683               2016                         13   \n",
              "3           3  112.259683               2016                         12   \n",
              "4           4  112.259683               2017                         19   \n",
              "\n",
              "   stays_in_weekend_nights  stays_in_week_nights    adults  children  babies  \\\n",
              "0                      1.0                     2  1.865199       0.0       0   \n",
              "1                      0.0                     1  1.865199       0.0       0   \n",
              "2                      0.0                     1  1.865199       2.0       0   \n",
              "3                      2.0                     5  1.865199       0.0       0   \n",
              "4                      2.0                     5  1.865199       0.0       0   \n",
              "\n",
              "   is_repeated_guest  ...  assigned_room_type_G  assigned_room_type_H  \\\n",
              "0                  0  ...                     0                     0   \n",
              "1                  0  ...                     0                     0   \n",
              "2                  0  ...                     0                     0   \n",
              "3                  0  ...                     0                     0   \n",
              "4                  0  ...                     0                     0   \n",
              "\n",
              "   assigned_room_type_I  assigned_room_type_K  assigned_room_type_L  \\\n",
              "0                     0                     0                     0   \n",
              "1                     0                     0                     0   \n",
              "2                     0                     0                     0   \n",
              "3                     0                     0                     0   \n",
              "4                     0                     0                     0   \n",
              "\n",
              "   deposit_type_Non Refund  deposit_type_Refundable  customer_type_Group  \\\n",
              "0                        0                        0                    0   \n",
              "1                        0                        0                    0   \n",
              "2                        0                        0                    0   \n",
              "3                        1                        0                    0   \n",
              "4                        0                        0                    0   \n",
              "\n",
              "   customer_type_Transient  customer_type_Transient-Party  \n",
              "0                        1                              0  \n",
              "1                        1                              0  \n",
              "2                        1                              0  \n",
              "3                        1                              0  \n",
              "4                        0                              1  \n",
              "\n",
              "[5 rows x 71 columns]"
            ],
            "text/html": [
              "\n",
              "  <div id=\"df-f801a75e-5c5f-49dc-b32d-6e75fa8f5b89\" class=\"colab-df-container\">\n",
              "    <div>\n",
              "<style scoped>\n",
              "    .dataframe tbody tr th:only-of-type {\n",
              "        vertical-align: middle;\n",
              "    }\n",
              "\n",
              "    .dataframe tbody tr th {\n",
              "        vertical-align: top;\n",
              "    }\n",
              "\n",
              "    .dataframe thead th {\n",
              "        text-align: right;\n",
              "    }\n",
              "</style>\n",
              "<table border=\"1\" class=\"dataframe\">\n",
              "  <thead>\n",
              "    <tr style=\"text-align: right;\">\n",
              "      <th></th>\n",
              "      <th>Unnamed: 0</th>\n",
              "      <th>lead_time</th>\n",
              "      <th>arrival_date_year</th>\n",
              "      <th>arrival_date_day_of_month</th>\n",
              "      <th>stays_in_weekend_nights</th>\n",
              "      <th>stays_in_week_nights</th>\n",
              "      <th>adults</th>\n",
              "      <th>children</th>\n",
              "      <th>babies</th>\n",
              "      <th>is_repeated_guest</th>\n",
              "      <th>...</th>\n",
              "      <th>assigned_room_type_G</th>\n",
              "      <th>assigned_room_type_H</th>\n",
              "      <th>assigned_room_type_I</th>\n",
              "      <th>assigned_room_type_K</th>\n",
              "      <th>assigned_room_type_L</th>\n",
              "      <th>deposit_type_Non Refund</th>\n",
              "      <th>deposit_type_Refundable</th>\n",
              "      <th>customer_type_Group</th>\n",
              "      <th>customer_type_Transient</th>\n",
              "      <th>customer_type_Transient-Party</th>\n",
              "    </tr>\n",
              "  </thead>\n",
              "  <tbody>\n",
              "    <tr>\n",
              "      <th>0</th>\n",
              "      <td>0</td>\n",
              "      <td>112.259683</td>\n",
              "      <td>2016</td>\n",
              "      <td>5</td>\n",
              "      <td>1.0</td>\n",
              "      <td>2</td>\n",
              "      <td>1.865199</td>\n",
              "      <td>0.0</td>\n",
              "      <td>0</td>\n",
              "      <td>0</td>\n",
              "      <td>...</td>\n",
              "      <td>0</td>\n",
              "      <td>0</td>\n",
              "      <td>0</td>\n",
              "      <td>0</td>\n",
              "      <td>0</td>\n",
              "      <td>0</td>\n",
              "      <td>0</td>\n",
              "      <td>0</td>\n",
              "      <td>1</td>\n",
              "      <td>0</td>\n",
              "    </tr>\n",
              "    <tr>\n",
              "      <th>1</th>\n",
              "      <td>1</td>\n",
              "      <td>112.259683</td>\n",
              "      <td>2015</td>\n",
              "      <td>31</td>\n",
              "      <td>0.0</td>\n",
              "      <td>1</td>\n",
              "      <td>1.865199</td>\n",
              "      <td>0.0</td>\n",
              "      <td>0</td>\n",
              "      <td>0</td>\n",
              "      <td>...</td>\n",
              "      <td>0</td>\n",
              "      <td>0</td>\n",
              "      <td>0</td>\n",
              "      <td>0</td>\n",
              "      <td>0</td>\n",
              "      <td>0</td>\n",
              "      <td>0</td>\n",
              "      <td>0</td>\n",
              "      <td>1</td>\n",
              "      <td>0</td>\n",
              "    </tr>\n",
              "    <tr>\n",
              "      <th>2</th>\n",
              "      <td>2</td>\n",
              "      <td>112.259683</td>\n",
              "      <td>2016</td>\n",
              "      <td>13</td>\n",
              "      <td>0.0</td>\n",
              "      <td>1</td>\n",
              "      <td>1.865199</td>\n",
              "      <td>2.0</td>\n",
              "      <td>0</td>\n",
              "      <td>0</td>\n",
              "      <td>...</td>\n",
              "      <td>0</td>\n",
              "      <td>0</td>\n",
              "      <td>0</td>\n",
              "      <td>0</td>\n",
              "      <td>0</td>\n",
              "      <td>0</td>\n",
              "      <td>0</td>\n",
              "      <td>0</td>\n",
              "      <td>1</td>\n",
              "      <td>0</td>\n",
              "    </tr>\n",
              "    <tr>\n",
              "      <th>3</th>\n",
              "      <td>3</td>\n",
              "      <td>112.259683</td>\n",
              "      <td>2016</td>\n",
              "      <td>12</td>\n",
              "      <td>2.0</td>\n",
              "      <td>5</td>\n",
              "      <td>1.865199</td>\n",
              "      <td>0.0</td>\n",
              "      <td>0</td>\n",
              "      <td>0</td>\n",
              "      <td>...</td>\n",
              "      <td>0</td>\n",
              "      <td>0</td>\n",
              "      <td>0</td>\n",
              "      <td>0</td>\n",
              "      <td>0</td>\n",
              "      <td>1</td>\n",
              "      <td>0</td>\n",
              "      <td>0</td>\n",
              "      <td>1</td>\n",
              "      <td>0</td>\n",
              "    </tr>\n",
              "    <tr>\n",
              "      <th>4</th>\n",
              "      <td>4</td>\n",
              "      <td>112.259683</td>\n",
              "      <td>2017</td>\n",
              "      <td>19</td>\n",
              "      <td>2.0</td>\n",
              "      <td>5</td>\n",
              "      <td>1.865199</td>\n",
              "      <td>0.0</td>\n",
              "      <td>0</td>\n",
              "      <td>0</td>\n",
              "      <td>...</td>\n",
              "      <td>0</td>\n",
              "      <td>0</td>\n",
              "      <td>0</td>\n",
              "      <td>0</td>\n",
              "      <td>0</td>\n",
              "      <td>0</td>\n",
              "      <td>0</td>\n",
              "      <td>0</td>\n",
              "      <td>0</td>\n",
              "      <td>1</td>\n",
              "    </tr>\n",
              "  </tbody>\n",
              "</table>\n",
              "<p>5 rows × 71 columns</p>\n",
              "</div>\n",
              "    <div class=\"colab-df-buttons\">\n",
              "\n",
              "  <div class=\"colab-df-container\">\n",
              "    <button class=\"colab-df-convert\" onclick=\"convertToInteractive('df-f801a75e-5c5f-49dc-b32d-6e75fa8f5b89')\"\n",
              "            title=\"Convert this dataframe to an interactive table.\"\n",
              "            style=\"display:none;\">\n",
              "\n",
              "  <svg xmlns=\"http://www.w3.org/2000/svg\" height=\"24px\" viewBox=\"0 -960 960 960\">\n",
              "    <path d=\"M120-120v-720h720v720H120Zm60-500h600v-160H180v160Zm220 220h160v-160H400v160Zm0 220h160v-160H400v160ZM180-400h160v-160H180v160Zm440 0h160v-160H620v160ZM180-180h160v-160H180v160Zm440 0h160v-160H620v160Z\"/>\n",
              "  </svg>\n",
              "    </button>\n",
              "\n",
              "  <style>\n",
              "    .colab-df-container {\n",
              "      display:flex;\n",
              "      gap: 12px;\n",
              "    }\n",
              "\n",
              "    .colab-df-convert {\n",
              "      background-color: #E8F0FE;\n",
              "      border: none;\n",
              "      border-radius: 50%;\n",
              "      cursor: pointer;\n",
              "      display: none;\n",
              "      fill: #1967D2;\n",
              "      height: 32px;\n",
              "      padding: 0 0 0 0;\n",
              "      width: 32px;\n",
              "    }\n",
              "\n",
              "    .colab-df-convert:hover {\n",
              "      background-color: #E2EBFA;\n",
              "      box-shadow: 0px 1px 2px rgba(60, 64, 67, 0.3), 0px 1px 3px 1px rgba(60, 64, 67, 0.15);\n",
              "      fill: #174EA6;\n",
              "    }\n",
              "\n",
              "    .colab-df-buttons div {\n",
              "      margin-bottom: 4px;\n",
              "    }\n",
              "\n",
              "    [theme=dark] .colab-df-convert {\n",
              "      background-color: #3B4455;\n",
              "      fill: #D2E3FC;\n",
              "    }\n",
              "\n",
              "    [theme=dark] .colab-df-convert:hover {\n",
              "      background-color: #434B5C;\n",
              "      box-shadow: 0px 1px 3px 1px rgba(0, 0, 0, 0.15);\n",
              "      filter: drop-shadow(0px 1px 2px rgba(0, 0, 0, 0.3));\n",
              "      fill: #FFFFFF;\n",
              "    }\n",
              "  </style>\n",
              "\n",
              "    <script>\n",
              "      const buttonEl =\n",
              "        document.querySelector('#df-f801a75e-5c5f-49dc-b32d-6e75fa8f5b89 button.colab-df-convert');\n",
              "      buttonEl.style.display =\n",
              "        google.colab.kernel.accessAllowed ? 'block' : 'none';\n",
              "\n",
              "      async function convertToInteractive(key) {\n",
              "        const element = document.querySelector('#df-f801a75e-5c5f-49dc-b32d-6e75fa8f5b89');\n",
              "        const dataTable =\n",
              "          await google.colab.kernel.invokeFunction('convertToInteractive',\n",
              "                                                    [key], {});\n",
              "        if (!dataTable) return;\n",
              "\n",
              "        const docLinkHtml = 'Like what you see? Visit the ' +\n",
              "          '<a target=\"_blank\" href=https://colab.research.google.com/notebooks/data_table.ipynb>data table notebook</a>'\n",
              "          + ' to learn more about interactive tables.';\n",
              "        element.innerHTML = '';\n",
              "        dataTable['output_type'] = 'display_data';\n",
              "        await google.colab.output.renderOutput(dataTable, element);\n",
              "        const docLink = document.createElement('div');\n",
              "        docLink.innerHTML = docLinkHtml;\n",
              "        element.appendChild(docLink);\n",
              "      }\n",
              "    </script>\n",
              "  </div>\n",
              "\n",
              "\n",
              "<div id=\"df-90d45b39-5829-4684-9f45-a5af03b72d4a\">\n",
              "  <button class=\"colab-df-quickchart\" onclick=\"quickchart('df-90d45b39-5829-4684-9f45-a5af03b72d4a')\"\n",
              "            title=\"Suggest charts.\"\n",
              "            style=\"display:none;\">\n",
              "\n",
              "<svg xmlns=\"http://www.w3.org/2000/svg\" height=\"24px\"viewBox=\"0 0 24 24\"\n",
              "     width=\"24px\">\n",
              "    <g>\n",
              "        <path d=\"M19 3H5c-1.1 0-2 .9-2 2v14c0 1.1.9 2 2 2h14c1.1 0 2-.9 2-2V5c0-1.1-.9-2-2-2zM9 17H7v-7h2v7zm4 0h-2V7h2v10zm4 0h-2v-4h2v4z\"/>\n",
              "    </g>\n",
              "</svg>\n",
              "  </button>\n",
              "\n",
              "<style>\n",
              "  .colab-df-quickchart {\n",
              "      --bg-color: #E8F0FE;\n",
              "      --fill-color: #1967D2;\n",
              "      --hover-bg-color: #E2EBFA;\n",
              "      --hover-fill-color: #174EA6;\n",
              "      --disabled-fill-color: #AAA;\n",
              "      --disabled-bg-color: #DDD;\n",
              "  }\n",
              "\n",
              "  [theme=dark] .colab-df-quickchart {\n",
              "      --bg-color: #3B4455;\n",
              "      --fill-color: #D2E3FC;\n",
              "      --hover-bg-color: #434B5C;\n",
              "      --hover-fill-color: #FFFFFF;\n",
              "      --disabled-bg-color: #3B4455;\n",
              "      --disabled-fill-color: #666;\n",
              "  }\n",
              "\n",
              "  .colab-df-quickchart {\n",
              "    background-color: var(--bg-color);\n",
              "    border: none;\n",
              "    border-radius: 50%;\n",
              "    cursor: pointer;\n",
              "    display: none;\n",
              "    fill: var(--fill-color);\n",
              "    height: 32px;\n",
              "    padding: 0;\n",
              "    width: 32px;\n",
              "  }\n",
              "\n",
              "  .colab-df-quickchart:hover {\n",
              "    background-color: var(--hover-bg-color);\n",
              "    box-shadow: 0 1px 2px rgba(60, 64, 67, 0.3), 0 1px 3px 1px rgba(60, 64, 67, 0.15);\n",
              "    fill: var(--button-hover-fill-color);\n",
              "  }\n",
              "\n",
              "  .colab-df-quickchart-complete:disabled,\n",
              "  .colab-df-quickchart-complete:disabled:hover {\n",
              "    background-color: var(--disabled-bg-color);\n",
              "    fill: var(--disabled-fill-color);\n",
              "    box-shadow: none;\n",
              "  }\n",
              "\n",
              "  .colab-df-spinner {\n",
              "    border: 2px solid var(--fill-color);\n",
              "    border-color: transparent;\n",
              "    border-bottom-color: var(--fill-color);\n",
              "    animation:\n",
              "      spin 1s steps(1) infinite;\n",
              "  }\n",
              "\n",
              "  @keyframes spin {\n",
              "    0% {\n",
              "      border-color: transparent;\n",
              "      border-bottom-color: var(--fill-color);\n",
              "      border-left-color: var(--fill-color);\n",
              "    }\n",
              "    20% {\n",
              "      border-color: transparent;\n",
              "      border-left-color: var(--fill-color);\n",
              "      border-top-color: var(--fill-color);\n",
              "    }\n",
              "    30% {\n",
              "      border-color: transparent;\n",
              "      border-left-color: var(--fill-color);\n",
              "      border-top-color: var(--fill-color);\n",
              "      border-right-color: var(--fill-color);\n",
              "    }\n",
              "    40% {\n",
              "      border-color: transparent;\n",
              "      border-right-color: var(--fill-color);\n",
              "      border-top-color: var(--fill-color);\n",
              "    }\n",
              "    60% {\n",
              "      border-color: transparent;\n",
              "      border-right-color: var(--fill-color);\n",
              "    }\n",
              "    80% {\n",
              "      border-color: transparent;\n",
              "      border-right-color: var(--fill-color);\n",
              "      border-bottom-color: var(--fill-color);\n",
              "    }\n",
              "    90% {\n",
              "      border-color: transparent;\n",
              "      border-bottom-color: var(--fill-color);\n",
              "    }\n",
              "  }\n",
              "</style>\n",
              "\n",
              "  <script>\n",
              "    async function quickchart(key) {\n",
              "      const quickchartButtonEl =\n",
              "        document.querySelector('#' + key + ' button');\n",
              "      quickchartButtonEl.disabled = true;  // To prevent multiple clicks.\n",
              "      quickchartButtonEl.classList.add('colab-df-spinner');\n",
              "      try {\n",
              "        const charts = await google.colab.kernel.invokeFunction(\n",
              "            'suggestCharts', [key], {});\n",
              "      } catch (error) {\n",
              "        console.error('Error during call to suggestCharts:', error);\n",
              "      }\n",
              "      quickchartButtonEl.classList.remove('colab-df-spinner');\n",
              "      quickchartButtonEl.classList.add('colab-df-quickchart-complete');\n",
              "    }\n",
              "    (() => {\n",
              "      let quickchartButtonEl =\n",
              "        document.querySelector('#df-90d45b39-5829-4684-9f45-a5af03b72d4a button');\n",
              "      quickchartButtonEl.style.display =\n",
              "        google.colab.kernel.accessAllowed ? 'block' : 'none';\n",
              "    })();\n",
              "  </script>\n",
              "</div>\n",
              "    </div>\n",
              "  </div>\n"
            ]
          },
          "metadata": {},
          "execution_count": 52
        }
      ],
      "source": [
        "#One hot encoding para variables categoricas\n",
        "hotels_tr = pd.get_dummies(hotels_tr, columns= variables_categoricas, drop_first=True)\n",
        "hotels_tr.head()"
      ]
    },
    {
      "cell_type": "code",
      "execution_count": null,
      "metadata": {
        "colab": {
          "base_uri": "https://localhost:8080/"
        },
        "id": "XSMCP3_qi0QW",
        "outputId": "adcbb501-8986-4003-feac-35c5b0e7a43b"
      },
      "outputs": [
        {
          "output_type": "stream",
          "name": "stdout",
          "text": [
            "Unnamed: 0                       0.0\n",
            "lead_time                        0.0\n",
            "arrival_date_year                0.0\n",
            "arrival_date_day_of_month        0.0\n",
            "stays_in_weekend_nights          0.0\n",
            "                                ... \n",
            "deposit_type_Non Refund          0.0\n",
            "deposit_type_Refundable          0.0\n",
            "customer_type_Group              0.0\n",
            "customer_type_Transient          0.0\n",
            "customer_type_Transient-Party    0.0\n",
            "Length: 71, dtype: float64\n"
          ]
        }
      ],
      "source": [
        "filas_totales=hotels_tr.shape[0]\n",
        "print(hotels_tr.isna().sum()/filas_totales*100)"
      ]
    },
    {
      "cell_type": "code",
      "execution_count": null,
      "metadata": {
        "colab": {
          "base_uri": "https://localhost:8080/"
        },
        "id": "TkGvWA9Ng22-",
        "outputId": "b940154e-5919-498c-c5f2-bfe7e297f8f6"
      },
      "outputs": [
        {
          "output_type": "execute_result",
          "data": {
            "text/plain": [
              "['lead_time',\n",
              " 'arrival_date_year',\n",
              " 'arrival_date_day_of_month',\n",
              " 'stays_in_weekend_nights',\n",
              " 'stays_in_week_nights',\n",
              " 'adults',\n",
              " 'children',\n",
              " 'babies',\n",
              " 'is_repeated_guest',\n",
              " 'previous_cancellations',\n",
              " 'previous_bookings_not_canceled',\n",
              " 'booking_changes',\n",
              " 'agent',\n",
              " 'company',\n",
              " 'days_in_waiting_list',\n",
              " 'adr',\n",
              " 'required_car_parking_spaces',\n",
              " 'total_of_special_requests',\n",
              " 'scores',\n",
              " 'hotel_Resort Hotel',\n",
              " 'arrival_date_month_1',\n",
              " 'meal_FB',\n",
              " 'meal_HB',\n",
              " 'meal_SC',\n",
              " 'meal_Undefined',\n",
              " 'country_BRA',\n",
              " 'country_DEU',\n",
              " 'country_ESP',\n",
              " 'country_FRA',\n",
              " 'country_GBR',\n",
              " 'country_IRL',\n",
              " 'country_ITA',\n",
              " 'country_PRT',\n",
              " 'country_USA',\n",
              " 'country_otros',\n",
              " 'market_segment_Complementary',\n",
              " 'market_segment_Corporate',\n",
              " 'market_segment_Direct',\n",
              " 'market_segment_Groups',\n",
              " 'market_segment_Offline TA/TO',\n",
              " 'market_segment_Online TA',\n",
              " 'market_segment_Undefined',\n",
              " 'distribution_channel_Direct',\n",
              " 'distribution_channel_GDS',\n",
              " 'distribution_channel_TA/TO',\n",
              " 'distribution_channel_Undefined',\n",
              " 'reserved_room_type_B',\n",
              " 'reserved_room_type_C',\n",
              " 'reserved_room_type_D',\n",
              " 'reserved_room_type_E',\n",
              " 'reserved_room_type_F',\n",
              " 'reserved_room_type_G',\n",
              " 'reserved_room_type_H',\n",
              " 'reserved_room_type_L',\n",
              " 'assigned_room_type_B',\n",
              " 'assigned_room_type_C',\n",
              " 'assigned_room_type_D',\n",
              " 'assigned_room_type_E',\n",
              " 'assigned_room_type_F',\n",
              " 'assigned_room_type_G',\n",
              " 'assigned_room_type_H',\n",
              " 'assigned_room_type_I',\n",
              " 'assigned_room_type_K',\n",
              " 'assigned_room_type_L',\n",
              " 'deposit_type_Non Refund',\n",
              " 'deposit_type_Refundable',\n",
              " 'customer_type_Group',\n",
              " 'customer_type_Transient',\n",
              " 'customer_type_Transient-Party']"
            ]
          },
          "metadata": {},
          "execution_count": 54
        }
      ],
      "source": [
        "hotels_tr.drop(columns=\"Unnamed: 0\", inplace=True)\n",
        "df_target = hotels_tr['is_canceled']\n",
        "hotels_tr.drop(columns=\"is_canceled\", inplace=True)\n",
        "hotels_tr.columns.tolist()\n"
      ]
    },
    {
      "cell_type": "markdown",
      "metadata": {
        "id": "LW_zsTAAdV-D"
      },
      "source": [
        "## Construccion de la Red Neuronal\n"
      ]
    },
    {
      "cell_type": "code",
      "execution_count": null,
      "metadata": {
        "id": "-VLM5z7GmN8K"
      },
      "outputs": [],
      "source": [
        "#Creo un dataset con los features que voy a usar para clasificar\n",
        "df_hotels_train_x = hotels_tr\n",
        "\n",
        "#Creo un dataset con la variable target\n",
        "df_hotels_train_y = df_target\n",
        "\n",
        "#Genero los conjuntos de train y test]\n",
        "x_train, x_test, y_train, y_test = train_test_split(df_hotels_train_x,\n",
        "                                                    df_hotels_train_y,\n",
        "                                                    test_size=0.3,  #proporcion 70/30\n",
        "                                                    random_state=2) #semilla"
      ]
    },
    {
      "cell_type": "code",
      "execution_count": null,
      "metadata": {
        "id": "ANqD_HJDmP3N"
      },
      "outputs": [],
      "source": [
        "def metricas(y_pred,y_test):\n",
        "\n",
        "  print(classification_report(y_test,y_pred))\n",
        "\n",
        "  cm = confusion_matrix(y_test,y_pred)\n",
        "  sns.heatmap(cm, cmap='Blues',annot=True,fmt='g')\n",
        "  plt.xlabel('Predicted')\n",
        "  plt.ylabel('True')"
      ]
    },
    {
      "cell_type": "code",
      "execution_count": null,
      "metadata": {
        "id": "EZ3kPh2tl9Rx"
      },
      "outputs": [],
      "source": [
        "#Escalamos los datos de train de nuestro data set\n",
        "scaler = StandardScaler()\n",
        "x_train_scaled = scaler.fit_transform(x_train)\n",
        "x_test_scaled = scaler.transform(x_test)"
      ]
    },
    {
      "cell_type": "markdown",
      "metadata": {
        "id": "w91rJYOsxOBz"
      },
      "source": [
        "# Modelo Nº 1"
      ]
    },
    {
      "cell_type": "code",
      "execution_count": null,
      "metadata": {
        "colab": {
          "base_uri": "https://localhost:8080/"
        },
        "id": "cvJGv87hl_Wo",
        "outputId": "0b1d4f51-7a27-4014-e76c-60257f46ea76"
      },
      "outputs": [
        {
          "output_type": "stream",
          "name": "stdout",
          "text": [
            "Model: \"sequential_3\"\n",
            "_________________________________________________________________\n",
            " Layer (type)                Output Shape              Param #   \n",
            "=================================================================\n",
            " dense_10 (Dense)            (None, 1)                 70        \n",
            "                                                                 \n",
            " dense_11 (Dense)            (None, 1)                 2         \n",
            "                                                                 \n",
            "=================================================================\n",
            "Total params: 72 (288.00 Byte)\n",
            "Trainable params: 72 (288.00 Byte)\n",
            "Non-trainable params: 0 (0.00 Byte)\n",
            "_________________________________________________________________\n"
          ]
        }
      ],
      "source": [
        "# Calculamos la cantidad de clases\n",
        "cant_clases = len(np.unique(y_train)) #Nuestro target\n",
        "d_in = len(x_train.columns) #Parametros de entrenamiento\n",
        "\n",
        "model_reservas_1 = keras.Sequential([\n",
        "    keras.layers.Dense(1, input_shape=(d_in,), activation='relu', kernel_initializer='uniform'),\n",
        "    keras.layers.Dense(1, activation='sigmoid')])\n",
        "\n",
        "\n",
        "#Mostramos los resultados\n",
        "model_reservas_1.summary()\n"
      ]
    },
    {
      "cell_type": "code",
      "execution_count": null,
      "metadata": {
        "colab": {
          "base_uri": "https://localhost:8080/"
        },
        "id": "fsVuOsu2mDDQ",
        "outputId": "23aca58f-42df-4b24-f09f-b7018f25da31"
      },
      "outputs": [
        {
          "output_type": "execute_result",
          "data": {
            "text/plain": [
              "array([1, 0, 1, ..., 0, 0, 1])"
            ]
          },
          "metadata": {},
          "execution_count": 59
        }
      ],
      "source": [
        "y_train.values"
      ]
    },
    {
      "cell_type": "code",
      "execution_count": null,
      "metadata": {
        "id": "K8Zjz4ZGmq6a"
      },
      "outputs": [],
      "source": [
        "model_reservas_1.compile(\n",
        "    optimizer = keras.optimizers.SGD(learning_rate = 0.1),\n",
        "    loss = 'binary_crossentropy', #Como mi salida es binaria uso binary_crossentropy\n",
        "\n",
        "      metrics=['accuracy']\n",
        ")\n",
        "\n",
        "cant_epochs = 100\n",
        "h_model_reservas_1 = model_reservas_1.fit(x_train_scaled, y_train, epochs = cant_epochs, batch_size = 16, verbose = False )"
      ]
    },
    {
      "cell_type": "code",
      "execution_count": null,
      "metadata": {
        "id": "toqsOF0YnL_w",
        "colab": {
          "base_uri": "https://localhost:8080/"
        },
        "outputId": "a0c7d5b6-b2e3-4645-d230-24ef793ac1ea"
      },
      "outputs": [
        {
          "output_type": "stream",
          "name": "stdout",
          "text": [
            "579/579 [==============================] - 2s 3ms/step\n"
          ]
        }
      ],
      "source": [
        "y_predic_res = model_reservas_1.predict(x_test_scaled) #Realizamos el predict"
      ]
    },
    {
      "cell_type": "code",
      "execution_count": null,
      "metadata": {
        "id": "HP8Jf2RjnNP9",
        "colab": {
          "base_uri": "https://localhost:8080/"
        },
        "outputId": "28926841-d6f0-414e-a9f2-cb0cbd36eca6"
      },
      "outputs": [
        {
          "output_type": "execute_result",
          "data": {
            "text/plain": [
              "(18512, 1)"
            ]
          },
          "metadata": {},
          "execution_count": 62
        }
      ],
      "source": [
        "y_predic_res.shape #Vemos el predict"
      ]
    },
    {
      "cell_type": "code",
      "execution_count": null,
      "metadata": {
        "id": "_YZj7RhdnO7k",
        "colab": {
          "base_uri": "https://localhost:8080/",
          "height": 619
        },
        "outputId": "63435cfe-faec-4ad5-e12f-13117839cc0b"
      },
      "outputs": [
        {
          "output_type": "stream",
          "name": "stdout",
          "text": [
            "579/579 [==============================] - 1s 2ms/step\n",
            "              precision    recall  f1-score   support\n",
            "\n",
            "           0       0.77      0.82      0.79      8689\n",
            "           1       0.83      0.78      0.80      9823\n",
            "\n",
            "    accuracy                           0.80     18512\n",
            "   macro avg       0.80      0.80      0.80     18512\n",
            "weighted avg       0.80      0.80      0.80     18512\n",
            "\n"
          ]
        },
        {
          "output_type": "display_data",
          "data": {
            "text/plain": [
              "<Figure size 640x480 with 2 Axes>"
            ],
            "image/png": "[encoded data removed]"
          },
          "metadata": {}
        }
      ],
      "source": [
        "y_predic_ = model_reservas_1.predict(x_test_scaled)\n",
        "y_predic_cat = np.where(y_predic_>0.4,1,0) #Seteamos un corte en los datos para determinar si cancelo o no\n",
        "\n",
        "ds_validacion=pd.DataFrame(y_predic_cat,y_test).reset_index() #Armamos un dataset\n",
        "ds_validacion.columns=['y_pred','y_real'] #Nombramos las columnas\n",
        "\n",
        "metricas(ds_validacion.y_pred,ds_validacion.y_real) #Dividimos el dataset"
      ]
    },
    {
      "cell_type": "markdown",
      "metadata": {
        "id": "DvfbVGNoyMZm"
      },
      "source": [
        "# Modelo Nº 2\n"
      ]
    },
    {
      "cell_type": "code",
      "execution_count": null,
      "metadata": {
        "colab": {
          "base_uri": "https://localhost:8080/"
        },
        "id": "TYUhMJFq3TC_",
        "outputId": "d96bb9d3-e7e8-47de-c170-6a41ba02c12d"
      },
      "outputs": [
        {
          "output_type": "stream",
          "name": "stdout",
          "text": [
            "Model: \"sequential_4\"\n",
            "_________________________________________________________________\n",
            " Layer (type)                Output Shape              Param #   \n",
            "=================================================================\n",
            " dense_12 (Dense)            (None, 64)                4480      \n",
            "                                                                 \n",
            " dense_13 (Dense)            (None, 32)                2080      \n",
            "                                                                 \n",
            " dense_14 (Dense)            (None, 16)                528       \n",
            "                                                                 \n",
            " dense_15 (Dense)            (None, 1)                 17        \n",
            "                                                                 \n",
            "=================================================================\n",
            "Total params: 7105 (27.75 KB)\n",
            "Trainable params: 7105 (27.75 KB)\n",
            "Non-trainable params: 0 (0.00 Byte)\n",
            "_________________________________________________________________\n"
          ]
        }
      ],
      "source": [
        "# Calculamos la cantidad de clases\n",
        "cant_clases = len(np.unique(y_train)) #Nuestro target\n",
        "d_in = len(x_train.columns) #Parametros de entrenamiento\n",
        "\n",
        "model_reservas_2 = keras.Sequential([\n",
        "    keras.layers.Dense(64, input_shape=(d_in,), activation='relu', kernel_initializer='uniform'),\n",
        "    keras.layers.Dense(32, activation='relu', kernel_initializer='uniform'),\n",
        "    keras.layers.Dense(16, activation='relu', kernel_initializer='uniform'),\n",
        "    keras.layers.Dense(1, activation='sigmoid')])\n",
        "\n",
        "#Mostramos los resultados\n",
        "model_reservas_2.summary()\n"
      ]
    },
    {
      "cell_type": "code",
      "execution_count": null,
      "metadata": {
        "id": "vC-8bngXyah_",
        "colab": {
          "base_uri": "https://localhost:8080/"
        },
        "outputId": "fc86fd24-f98a-484d-b31a-29ec1592b65c"
      },
      "outputs": [
        {
          "output_type": "execute_result",
          "data": {
            "text/plain": [
              "array([1, 0, 1, ..., 0, 0, 1])"
            ]
          },
          "metadata": {},
          "execution_count": 65
        }
      ],
      "source": [
        "y_train.values"
      ]
    },
    {
      "cell_type": "code",
      "execution_count": null,
      "metadata": {
        "id": "-z4ymOCuycMr"
      },
      "outputs": [],
      "source": [
        "model_reservas_2.compile(\n",
        "    optimizer = keras.optimizers.SGD(learning_rate = 0.1),\n",
        "    loss = 'binary_crossentropy', #Como mi salida es binaria uso binary_crossentropy\n",
        "\n",
        "      metrics=['accuracy']\n",
        ")\n",
        "\n",
        "cant_epochs = 100\n",
        "h_model_reservas_2 = model_reservas_2.fit(x_train_scaled, y_train, epochs = cant_epochs, batch_size = 16, verbose = False )"
      ]
    },
    {
      "cell_type": "code",
      "execution_count": null,
      "metadata": {
        "id": "hsTkIFFcyeL3",
        "colab": {
          "base_uri": "https://localhost:8080/"
        },
        "outputId": "69765581-0b57-4c0b-cbff-c31cd28c8268"
      },
      "outputs": [
        {
          "output_type": "stream",
          "name": "stdout",
          "text": [
            "579/579 [==============================] - 1s 2ms/step\n"
          ]
        }
      ],
      "source": [
        "y_predic_res = model_reservas_2.predict(x_test_scaled) #Realizamos el predict"
      ]
    },
    {
      "cell_type": "code",
      "execution_count": null,
      "metadata": {
        "id": "3eFNjl3jyg5_",
        "colab": {
          "base_uri": "https://localhost:8080/"
        },
        "outputId": "eb255a55-955a-44c4-8af4-79b05e137b89"
      },
      "outputs": [
        {
          "output_type": "stream",
          "name": "stdout",
          "text": [
            "579/579 [==============================] - 1s 2ms/step\n"
          ]
        }
      ],
      "source": [
        "y_predic_ = model_reservas_2.predict(x_test_scaled)\n",
        "y_predic_cat = np.where(y_predic_>0.4,1,0) #Seteamos un corte en los datos para determinar si cancelo o no\n",
        "\n",
        "ds_validacion=pd.DataFrame(y_predic_cat,y_test).reset_index() #Armamos un dataset\n",
        "ds_validacion.columns=['y_pred','y_real'] #Nombramos las columnas\n"
      ]
    },
    {
      "cell_type": "code",
      "execution_count": null,
      "metadata": {
        "id": "7Yj-byAEznuK",
        "colab": {
          "base_uri": "https://localhost:8080/",
          "height": 608
        },
        "outputId": "7290efac-1030-4502-ef20-3151eee05304"
      },
      "outputs": [
        {
          "output_type": "stream",
          "name": "stdout",
          "text": [
            "              precision    recall  f1-score   support\n",
            "\n",
            "           0       0.79      0.86      0.82      8591\n",
            "           1       0.87      0.81      0.84      9921\n",
            "\n",
            "    accuracy                           0.83     18512\n",
            "   macro avg       0.83      0.83      0.83     18512\n",
            "weighted avg       0.83      0.83      0.83     18512\n",
            "\n"
          ]
        },
        {
          "output_type": "display_data",
          "data": {
            "text/plain": [
              "<Figure size 640x480 with 2 Axes>"
            ],
            "image/png": "[encoded data removed]"
          },
          "metadata": {}
        }
      ],
      "source": [
        "metricas(ds_validacion.y_pred,ds_validacion.y_real) #Dividimos el dataset"
      ]
    },
    {
      "cell_type": "markdown",
      "metadata": {
        "id": "EiqQPCLW3FgF"
      },
      "source": [
        "# Modelo Nº 3\n"
      ]
    },
    {
      "cell_type": "code",
      "execution_count": null,
      "metadata": {
        "id": "boyKXLPa3YhE",
        "colab": {
          "base_uri": "https://localhost:8080/"
        },
        "outputId": "2987e08a-172f-453d-9a97-71bafe006f34"
      },
      "outputs": [
        {
          "output_type": "stream",
          "name": "stdout",
          "text": [
            "Model: \"sequential_4\"\n",
            "_________________________________________________________________\n",
            " Layer (type)                Output Shape              Param #   \n",
            "=================================================================\n",
            " dense_12 (Dense)            (None, 64)                4480      \n",
            "                                                                 \n",
            " dense_13 (Dense)            (None, 32)                2080      \n",
            "                                                                 \n",
            " dense_14 (Dense)            (None, 16)                528       \n",
            "                                                                 \n",
            " dense_15 (Dense)            (None, 1)                 17        \n",
            "                                                                 \n",
            "=================================================================\n",
            "Total params: 7105 (27.75 KB)\n",
            "Trainable params: 7105 (27.75 KB)\n",
            "Non-trainable params: 0 (0.00 Byte)\n",
            "_________________________________________________________________\n"
          ]
        }
      ],
      "source": [
        "# Calculamos la cantidad de clases\n",
        "cant_clases = len(np.unique(y_train)) #Nuestro target\n",
        "d_in = len(x_train.columns) #Parametros de entrenamiento\n",
        "\n",
        "model_reservas_3 = keras.Sequential([\n",
        "    keras.layers.Dense(64, input_shape=(d_in,), activation='relu', kernel_initializer='uniform'),\n",
        "    keras.layers.Dense(32, activation='tanh', kernel_initializer='uniform'),\n",
        "    keras.layers.Dense(16, activation='tanh', kernel_initializer='uniform'),\n",
        "    keras.layers.Dense(1, activation='sigmoid')])\n",
        "\n",
        "#Mostramos los resultados\n",
        "model_reservas_2.summary()"
      ]
    },
    {
      "cell_type": "code",
      "execution_count": null,
      "metadata": {
        "id": "X_KEKhqH3cjx",
        "colab": {
          "base_uri": "https://localhost:8080/"
        },
        "outputId": "f6c5c287-1e4d-4543-ebb9-41bbafa2b46a"
      },
      "outputs": [
        {
          "output_type": "execute_result",
          "data": {
            "text/plain": [
              "array([1, 0, 1, ..., 0, 0, 1])"
            ]
          },
          "metadata": {},
          "execution_count": 71
        }
      ],
      "source": [
        "y_train.values"
      ]
    },
    {
      "cell_type": "code",
      "execution_count": null,
      "metadata": {
        "id": "91zkiZ4j3mjo"
      },
      "outputs": [],
      "source": [
        "model_reservas_3.compile(\n",
        "    optimizer = keras.optimizers.SGD(learning_rate = 0.1),\n",
        "    loss = 'binary_crossentropy', #Como mi salida es binaria uso binary_crossentropy\n",
        "\n",
        "      metrics=['accuracy']\n",
        ")\n",
        "\n",
        "cant_epochs = 100\n",
        "h_model_reservas_3 = model_reservas_3.fit(x_train_scaled, y_train, epochs = cant_epochs, batch_size = 16, verbose = False )"
      ]
    },
    {
      "cell_type": "code",
      "execution_count": null,
      "metadata": {
        "id": "o0GvAyNE3ol9",
        "colab": {
          "base_uri": "https://localhost:8080/"
        },
        "outputId": "26fbd313-0a55-4c5b-dd09-4f7c17718db0"
      },
      "outputs": [
        {
          "output_type": "stream",
          "name": "stdout",
          "text": [
            "579/579 [==============================] - 1s 2ms/step\n"
          ]
        }
      ],
      "source": [
        "y_predic_res = model_reservas_3.predict(x_test_scaled) #Realizamos el predict"
      ]
    },
    {
      "cell_type": "code",
      "execution_count": null,
      "metadata": {
        "id": "rDwcXUWE3qUp",
        "colab": {
          "base_uri": "https://localhost:8080/"
        },
        "outputId": "d9ef4baa-3566-42a3-9879-acbeebadba7c"
      },
      "outputs": [
        {
          "output_type": "stream",
          "name": "stdout",
          "text": [
            "579/579 [==============================] - 1s 2ms/step\n"
          ]
        }
      ],
      "source": [
        "y_predic_ = model_reservas_3.predict(x_test_scaled)\n",
        "y_predic_cat = np.where(y_predic_>0.4,1,0) #Seteamos un corte en los datos para determinar si cancelo o no\n",
        "\n",
        "ds_validacion=pd.DataFrame(y_predic_cat,y_test).reset_index() #Armamos un dataset\n",
        "ds_validacion.columns=['y_pred','y_real'] #Nombramos las columnas"
      ]
    },
    {
      "cell_type": "code",
      "execution_count": null,
      "metadata": {
        "id": "0ZGoKVPs3sAs",
        "colab": {
          "base_uri": "https://localhost:8080/",
          "height": 602
        },
        "outputId": "a578d146-4246-4828-f319-679933167fca"
      },
      "outputs": [
        {
          "output_type": "stream",
          "name": "stdout",
          "text": [
            "              precision    recall  f1-score   support\n",
            "\n",
            "           0       0.81      0.83      0.82      9123\n",
            "           1       0.83      0.81      0.82      9389\n",
            "\n",
            "    accuracy                           0.82     18512\n",
            "   macro avg       0.82      0.82      0.82     18512\n",
            "weighted avg       0.82      0.82      0.82     18512\n",
            "\n"
          ]
        },
        {
          "output_type": "display_data",
          "data": {
            "text/plain": [
              "<Figure size 640x480 with 2 Axes>"
            ],
            "image/png": "[encoded data removed]"
          },
          "metadata": {}
        }
      ],
      "source": [
        "metricas(ds_validacion.y_pred,ds_validacion.y_real) #Dividimos el dataset"
      ]
    },
    {
      "cell_type": "markdown",
      "source": [
        "# Modelo Nº 4"
      ],
      "metadata": {
        "id": "28clAIqx-PSs"
      }
    },
    {
      "cell_type": "code",
      "source": [
        "# Calculamos la cantidad de clases\n",
        "cant_clases = len(np.unique(y_train)) #Nuestro target\n",
        "d_in = len(x_train.columns) #Parametros de entrenamiento\n",
        "\n",
        "model_reservas_4 = keras.Sequential([\n",
        "    keras.layers.Dense(300, input_shape=(d_in,), activation='relu', kernel_initializer='uniform'),\n",
        "    keras.layers.Dense(250, activation='tanh', kernel_initializer='uniform'),\n",
        "    keras.layers.Dense(200, activation='tanh', kernel_initializer='uniform'),\n",
        "    keras.layers.Dense(150, activation='tanh', kernel_initializer='uniform'),\n",
        "    keras.layers.Dense(100, activation='tanh', kernel_initializer='uniform'),\n",
        "    keras.layers.Dense(1, activation='sigmoid')])\n",
        "\n",
        "#Mostramos los resultados\n",
        "model_reservas_4.summary()"
      ],
      "metadata": {
        "id": "4xKrHcQn-LHp",
        "colab": {
          "base_uri": "https://localhost:8080/"
        },
        "outputId": "a8916337-e452-4f74-9b33-bc92db678069"
      },
      "execution_count": null,
      "outputs": [
        {
          "output_type": "stream",
          "name": "stdout",
          "text": [
            "Model: \"sequential_6\"\n",
            "_________________________________________________________________\n",
            " Layer (type)                Output Shape              Param #   \n",
            "=================================================================\n",
            " dense_20 (Dense)            (None, 300)               21000     \n",
            "                                                                 \n",
            " dense_21 (Dense)            (None, 250)               75250     \n",
            "                                                                 \n",
            " dense_22 (Dense)            (None, 200)               50200     \n",
            "                                                                 \n",
            " dense_23 (Dense)            (None, 150)               30150     \n",
            "                                                                 \n",
            " dense_24 (Dense)            (None, 100)               15100     \n",
            "                                                                 \n",
            " dense_25 (Dense)            (None, 1)                 101       \n",
            "                                                                 \n",
            "=================================================================\n",
            "Total params: 191801 (749.22 KB)\n",
            "Trainable params: 191801 (749.22 KB)\n",
            "Non-trainable params: 0 (0.00 Byte)\n",
            "_________________________________________________________________\n"
          ]
        }
      ]
    },
    {
      "cell_type": "code",
      "source": [
        "y_train.values"
      ],
      "metadata": {
        "id": "Jvc-_EWi-VpE",
        "colab": {
          "base_uri": "https://localhost:8080/"
        },
        "outputId": "e3addd92-7d1a-4d02-9855-be6e7185e0f9"
      },
      "execution_count": null,
      "outputs": [
        {
          "output_type": "execute_result",
          "data": {
            "text/plain": [
              "array([1, 0, 1, ..., 0, 0, 1])"
            ]
          },
          "metadata": {},
          "execution_count": 77
        }
      ]
    },
    {
      "cell_type": "code",
      "source": [
        "model_reservas_4.compile(\n",
        "    optimizer = keras.optimizers.SGD(learning_rate = 0.1),\n",
        "    loss = 'binary_crossentropy', #Como mi salida es binaria uso binary_crossentropy\n",
        "\n",
        "      metrics=['accuracy']\n",
        ")\n",
        "\n",
        "cant_epochs = 100\n",
        "h_model_reservas_4 = model_reservas_4.fit(x_train_scaled, y_train, epochs = cant_epochs, batch_size = 16, verbose = False )"
      ],
      "metadata": {
        "id": "qx0w4_m9-XlF"
      },
      "execution_count": null,
      "outputs": []
    },
    {
      "cell_type": "code",
      "source": [
        "y_predic_res = model_reservas_4.predict(x_test_scaled) #Realizamos el predict"
      ],
      "metadata": {
        "id": "nMxLE8RE-ZLY",
        "colab": {
          "base_uri": "https://localhost:8080/"
        },
        "outputId": "f26a11a0-c39d-4de9-c53e-68d8ef7d55d7"
      },
      "execution_count": null,
      "outputs": [
        {
          "output_type": "stream",
          "name": "stdout",
          "text": [
            "579/579 [==============================] - 1s 2ms/step\n"
          ]
        }
      ]
    },
    {
      "cell_type": "code",
      "source": [
        "y_predic_ = model_reservas_4.predict(x_test_scaled)\n",
        "y_predic_cat = np.where(y_predic_>0.4,1,0) #Seteamos un corte en los datos para determinar si cancelo o no\n",
        "\n",
        "ds_validacion=pd.DataFrame(y_predic_cat,y_test).reset_index() #Armamos un dataset\n",
        "ds_validacion.columns=['y_pred','y_real'] #Nombramos las columnas"
      ],
      "metadata": {
        "id": "wq80IrxE-bXS",
        "colab": {
          "base_uri": "https://localhost:8080/"
        },
        "outputId": "0dc49607-c806-4b00-8c36-60634230b29e"
      },
      "execution_count": null,
      "outputs": [
        {
          "output_type": "stream",
          "name": "stdout",
          "text": [
            "579/579 [==============================] - 2s 3ms/step\n"
          ]
        }
      ]
    },
    {
      "cell_type": "code",
      "source": [
        "metricas(ds_validacion.y_pred,ds_validacion.y_real) #Dividimos el dataset"
      ],
      "metadata": {
        "id": "okvlmGC7-dLY",
        "colab": {
          "base_uri": "https://localhost:8080/",
          "height": 602
        },
        "outputId": "aeeccfe7-d7f7-4ac7-af6b-63b283a5fa84"
      },
      "execution_count": null,
      "outputs": [
        {
          "output_type": "stream",
          "name": "stdout",
          "text": [
            "              precision    recall  f1-score   support\n",
            "\n",
            "           0       0.81      0.83      0.82      9053\n",
            "           1       0.84      0.82      0.83      9459\n",
            "\n",
            "    accuracy                           0.83     18512\n",
            "   macro avg       0.83      0.83      0.83     18512\n",
            "weighted avg       0.83      0.83      0.83     18512\n",
            "\n"
          ]
        },
        {
          "output_type": "display_data",
          "data": {
            "text/plain": [
              "<Figure size 640x480 with 2 Axes>"
            ],
            "image/png": "[encoded data removed]"
          },
          "metadata": {}
        }
      ]
    },
    {
      "cell_type": "markdown",
      "source": [
        "# Modelo Nº 5"
      ],
      "metadata": {
        "id": "ohK9vw2g_QzT"
      }
    },
    {
      "cell_type": "code",
      "source": [
        "# Calculamos la cantidad de clases\n",
        "cant_clases = len(np.unique(y_train)) #Nuestro target\n",
        "d_in = len(x_train.columns) #Parametros de entrenamiento\n",
        "\n",
        "model_reservas_5 = keras.Sequential([\n",
        "    keras.layers.Dense(300, input_shape=(d_in,), activation='relu', kernel_initializer='uniform'),\n",
        "    keras.layers.Dense(250, activation='tanh', kernel_initializer='uniform'),\n",
        "    keras.layers.Dense(200, activation='tanh', kernel_initializer='uniform'),\n",
        "    keras.layers.Dense(150, activation='tanh', kernel_initializer='uniform'),\n",
        "    keras.layers.Dense(100, activation='tanh', kernel_initializer='uniform'),\n",
        "    keras.layers.Dense(1, activation='sigmoid')])\n",
        "\n",
        "#Mostramos los resultados\n",
        "model_reservas_5.summary()"
      ],
      "metadata": {
        "id": "4TkEA_Iu_Rby",
        "colab": {
          "base_uri": "https://localhost:8080/"
        },
        "outputId": "b5926a12-44e9-4616-97b4-b544b3426f92"
      },
      "execution_count": null,
      "outputs": [
        {
          "output_type": "stream",
          "name": "stdout",
          "text": [
            "Model: \"sequential_7\"\n",
            "_________________________________________________________________\n",
            " Layer (type)                Output Shape              Param #   \n",
            "=================================================================\n",
            " dense_26 (Dense)            (None, 300)               21000     \n",
            "                                                                 \n",
            " dense_27 (Dense)            (None, 250)               75250     \n",
            "                                                                 \n",
            " dense_28 (Dense)            (None, 200)               50200     \n",
            "                                                                 \n",
            " dense_29 (Dense)            (None, 150)               30150     \n",
            "                                                                 \n",
            " dense_30 (Dense)            (None, 100)               15100     \n",
            "                                                                 \n",
            " dense_31 (Dense)            (None, 1)                 101       \n",
            "                                                                 \n",
            "=================================================================\n",
            "Total params: 191801 (749.22 KB)\n",
            "Trainable params: 191801 (749.22 KB)\n",
            "Non-trainable params: 0 (0.00 Byte)\n",
            "_________________________________________________________________\n"
          ]
        }
      ]
    },
    {
      "cell_type": "code",
      "source": [
        "y_train.values"
      ],
      "metadata": {
        "id": "afFDV85Z_V9U",
        "colab": {
          "base_uri": "https://localhost:8080/"
        },
        "outputId": "2f442982-7c44-438f-81a2-7b1063d95119"
      },
      "execution_count": null,
      "outputs": [
        {
          "output_type": "execute_result",
          "data": {
            "text/plain": [
              "array([1, 0, 1, ..., 0, 0, 1])"
            ]
          },
          "metadata": {},
          "execution_count": 83
        }
      ]
    },
    {
      "cell_type": "code",
      "source": [
        "model_reservas_5.compile(\n",
        "    optimizer = keras.optimizers.SGD(learning_rate = 0.1),\n",
        "    loss = 'binary_crossentropy', #Como mi salida es binaria uso binary_crossentropy\n",
        "\n",
        "      metrics=['accuracy']\n",
        ")\n",
        "\n",
        "cant_epochs = 50\n",
        "h_model_reservas_5 = model_reservas_5.fit(x_train_scaled, y_train, epochs = cant_epochs, batch_size = 16, verbose = False )"
      ],
      "metadata": {
        "id": "8naAtmFA_YyE"
      },
      "execution_count": null,
      "outputs": []
    },
    {
      "cell_type": "code",
      "source": [
        "y_predic_res = model_reservas_5.predict(x_test_scaled) #Realizamos el predict"
      ],
      "metadata": {
        "id": "DflUutla_aMz",
        "colab": {
          "base_uri": "https://localhost:8080/"
        },
        "outputId": "71a39b20-cab6-4bbe-a232-39026b5d7461"
      },
      "execution_count": null,
      "outputs": [
        {
          "output_type": "stream",
          "name": "stdout",
          "text": [
            "579/579 [==============================] - 1s 2ms/step\n"
          ]
        }
      ]
    },
    {
      "cell_type": "code",
      "source": [
        "y_predic_ = model_reservas_5.predict(x_test_scaled)\n",
        "y_predic_cat = np.where(y_predic_>0.4,1,0) #Seteamos un corte en los datos para determinar si cancelo o no\n",
        "\n",
        "ds_validacion=pd.DataFrame(y_predic_cat,y_test).reset_index() #Armamos un dataset\n",
        "ds_validacion.columns=['y_pred','y_real'] #Nombramos las columnas"
      ],
      "metadata": {
        "id": "tilnnH3R_bit",
        "colab": {
          "base_uri": "https://localhost:8080/"
        },
        "outputId": "888b628c-ba51-4706-f223-b6455c95d3ea"
      },
      "execution_count": null,
      "outputs": [
        {
          "output_type": "stream",
          "name": "stdout",
          "text": [
            "579/579 [==============================] - 1s 2ms/step\n"
          ]
        }
      ]
    },
    {
      "cell_type": "code",
      "source": [
        "metricas(ds_validacion.y_pred,ds_validacion.y_real) #Dividimos el dataset"
      ],
      "metadata": {
        "id": "R6h45x7P_c70",
        "colab": {
          "base_uri": "https://localhost:8080/",
          "height": 602
        },
        "outputId": "11381736-cbdb-40cc-abdf-91605fd53109"
      },
      "execution_count": null,
      "outputs": [
        {
          "output_type": "stream",
          "name": "stdout",
          "text": [
            "              precision    recall  f1-score   support\n",
            "\n",
            "           0       0.75      0.88      0.81      7898\n",
            "           1       0.90      0.78      0.83     10614\n",
            "\n",
            "    accuracy                           0.82     18512\n",
            "   macro avg       0.82      0.83      0.82     18512\n",
            "weighted avg       0.83      0.82      0.82     18512\n",
            "\n"
          ]
        },
        {
          "output_type": "display_data",
          "data": {
            "text/plain": [
              "<Figure size 640x480 with 2 Axes>"
            ],
            "image/png": "[encoded data removed]"
          },
          "metadata": {}
        }
      ]
    },
    {
      "cell_type": "markdown",
      "source": [
        "#Modelo Nº 6"
      ],
      "metadata": {
        "id": "pvDayTzSMMVK"
      }
    },
    {
      "cell_type": "code",
      "source": [
        "# Calculamos la cantidad de clases\n",
        "cant_clases = len(np.unique(y_train)) #Nuestro target\n",
        "d_in = len(x_train.columns) #Parametros de entrenamiento\n",
        "\n",
        "model_reservas_6 = keras.Sequential([\n",
        "    keras.layers.Dense(300, input_shape=(d_in,), activation='relu', kernel_initializer='uniform'),\n",
        "    keras.layers.Dense(250, activation='relu', kernel_initializer='uniform'),\n",
        "    keras.layers.Dense(200, activation='relu', kernel_initializer='uniform'),\n",
        "    keras.layers.Dense(150, activation='relu', kernel_initializer='uniform'),\n",
        "    keras.layers.Dense(100, activation='relu', kernel_initializer='uniform'),\n",
        "    keras.layers.Dense(1, activation='sigmoid')])\n",
        "\n",
        "#Mostramos los resultados\n",
        "model_reservas_6.summary()"
      ],
      "metadata": {
        "colab": {
          "base_uri": "https://localhost:8080/"
        },
        "id": "Xdi6csYeMOHq",
        "outputId": "de385eea-ad1b-405e-ef22-8aa3f7926834"
      },
      "execution_count": null,
      "outputs": [
        {
          "output_type": "stream",
          "name": "stdout",
          "text": [
            "Model: \"sequential_9\"\n",
            "_________________________________________________________________\n",
            " Layer (type)                Output Shape              Param #   \n",
            "=================================================================\n",
            " dense_38 (Dense)            (None, 300)               21000     \n",
            "                                                                 \n",
            " dense_39 (Dense)            (None, 250)               75250     \n",
            "                                                                 \n",
            " dense_40 (Dense)            (None, 200)               50200     \n",
            "                                                                 \n",
            " dense_41 (Dense)            (None, 150)               30150     \n",
            "                                                                 \n",
            " dense_42 (Dense)            (None, 100)               15100     \n",
            "                                                                 \n",
            " dense_43 (Dense)            (None, 1)                 101       \n",
            "                                                                 \n",
            "=================================================================\n",
            "Total params: 191801 (749.22 KB)\n",
            "Trainable params: 191801 (749.22 KB)\n",
            "Non-trainable params: 0 (0.00 Byte)\n",
            "_________________________________________________________________\n"
          ]
        }
      ]
    },
    {
      "cell_type": "code",
      "source": [
        "y_train.values"
      ],
      "metadata": {
        "colab": {
          "base_uri": "https://localhost:8080/"
        },
        "id": "o_69uDLsMYXO",
        "outputId": "c0c141ac-233d-41ed-859f-aa9bfe1feb83"
      },
      "execution_count": null,
      "outputs": [
        {
          "output_type": "execute_result",
          "data": {
            "text/plain": [
              "array([1, 0, 1, ..., 0, 0, 1])"
            ]
          },
          "metadata": {},
          "execution_count": 112
        }
      ]
    },
    {
      "cell_type": "code",
      "source": [
        "model_reservas_6.compile(\n",
        "    optimizer = keras.optimizers.SGD(learning_rate = 0.1),\n",
        "    loss = 'binary_crossentropy', #Como mi salida es binaria uso binary_crossentropy\n",
        "\n",
        "      metrics=['AUC']\n",
        ")\n",
        "\n",
        "cant_epochs = 100\n",
        "h_model_reservas_6 = model_reservas_6.fit(x_train_scaled, y_train, epochs = cant_epochs, batch_size = 16, verbose = False )"
      ],
      "metadata": {
        "id": "jmSJfVwIMbMI"
      },
      "execution_count": null,
      "outputs": []
    },
    {
      "cell_type": "code",
      "source": [
        "y_predic_res = model_reservas_6.predict(x_test_scaled) #Realizamos el predict"
      ],
      "metadata": {
        "colab": {
          "base_uri": "https://localhost:8080/"
        },
        "id": "hfI0inBSMd-e",
        "outputId": "445623d1-a369-4556-f33d-d6ba82aea9c4"
      },
      "execution_count": null,
      "outputs": [
        {
          "output_type": "stream",
          "name": "stdout",
          "text": [
            "579/579 [==============================] - 1s 2ms/step\n"
          ]
        }
      ]
    },
    {
      "cell_type": "code",
      "source": [
        "y_predic_ = model_reservas_6.predict(x_test_scaled)\n",
        "y_predic_cat = np.where(y_predic_>0.4,1,0) #Seteamos un corte en los datos para determinar si cancelo o no\n",
        "\n",
        "ds_validacion=pd.DataFrame(y_predic_cat,y_test).reset_index() #Armamos un dataset\n",
        "ds_validacion.columns=['y_pred','y_real'] #Nombramos las columnas"
      ],
      "metadata": {
        "colab": {
          "base_uri": "https://localhost:8080/"
        },
        "id": "lUMxxg7tMh2D",
        "outputId": "d6419e56-aa71-4764-a932-41848f61a778"
      },
      "execution_count": null,
      "outputs": [
        {
          "output_type": "stream",
          "name": "stdout",
          "text": [
            "579/579 [==============================] - 1s 2ms/step\n"
          ]
        }
      ]
    },
    {
      "cell_type": "code",
      "source": [
        "metricas(ds_validacion.y_pred,ds_validacion.y_real) #Dividimos el dataset"
      ],
      "metadata": {
        "colab": {
          "base_uri": "https://localhost:8080/",
          "height": 602
        },
        "id": "2FLl2eLhMk1P",
        "outputId": "111b584c-2ad9-427e-8436-0bc7541398da"
      },
      "execution_count": null,
      "outputs": [
        {
          "output_type": "stream",
          "name": "stdout",
          "text": [
            "              precision    recall  f1-score   support\n",
            "\n",
            "           0       0.80      0.83      0.82      8918\n",
            "           1       0.84      0.81      0.82      9594\n",
            "\n",
            "    accuracy                           0.82     18512\n",
            "   macro avg       0.82      0.82      0.82     18512\n",
            "weighted avg       0.82      0.82      0.82     18512\n",
            "\n"
          ]
        },
        {
          "output_type": "display_data",
          "data": {
            "text/plain": [
              "<Figure size 640x480 with 2 Axes>"
            ],
            "image/png": "[encoded data removed]"
          },
          "metadata": {}
        }
      ]
    },
    {
      "cell_type": "markdown",
      "source": [
        "#Modelo Nº 7"
      ],
      "metadata": {
        "id": "O2HE9PlrQ9xS"
      }
    },
    {
      "cell_type": "code",
      "source": [
        "# Calculamos la cantidad de clases\n",
        "cant_clases = len(np.unique(y_train)) #Nuestro target\n",
        "d_in = len(x_train.columns) #Parametros de entrenamiento\n",
        "\n",
        "model_reservas_7 = keras.Sequential([\n",
        "    keras.layers.Dense(300, input_shape=(d_in,), activation='relu', kernel_initializer='uniform'),\n",
        "    keras.layers.Dense(250, activation='relu', kernel_initializer='uniform'),\n",
        "    keras.layers.Dense(200, activation='relu', kernel_initializer='uniform'),\n",
        "    keras.layers.Dense(150, activation='relu', kernel_initializer='uniform'),\n",
        "    keras.layers.Dense(100, activation='relu', kernel_initializer='uniform'),\n",
        "    keras.layers.Dense(50, activation='relu', kernel_initializer='uniform'),\n",
        "    keras.layers.Dense(1, activation='sigmoid')])\n",
        "\n",
        "#Mostramos los resultados\n",
        "model_reservas_7.summary()"
      ],
      "metadata": {
        "colab": {
          "base_uri": "https://localhost:8080/"
        },
        "id": "3O3Qe-i3RAKe",
        "outputId": "8e9fb0f7-d263-42e8-d87f-13202b4909f6"
      },
      "execution_count": null,
      "outputs": [
        {
          "output_type": "stream",
          "name": "stdout",
          "text": [
            "Model: \"sequential_10\"\n",
            "_________________________________________________________________\n",
            " Layer (type)                Output Shape              Param #   \n",
            "=================================================================\n",
            " dense_44 (Dense)            (None, 300)               21000     \n",
            "                                                                 \n",
            " dense_45 (Dense)            (None, 250)               75250     \n",
            "                                                                 \n",
            " dense_46 (Dense)            (None, 200)               50200     \n",
            "                                                                 \n",
            " dense_47 (Dense)            (None, 150)               30150     \n",
            "                                                                 \n",
            " dense_48 (Dense)            (None, 100)               15100     \n",
            "                                                                 \n",
            " dense_49 (Dense)            (None, 50)                5050      \n",
            "                                                                 \n",
            " dense_50 (Dense)            (None, 1)                 51        \n",
            "                                                                 \n",
            "=================================================================\n",
            "Total params: 196801 (768.75 KB)\n",
            "Trainable params: 196801 (768.75 KB)\n",
            "Non-trainable params: 0 (0.00 Byte)\n",
            "_________________________________________________________________\n"
          ]
        }
      ]
    },
    {
      "cell_type": "code",
      "source": [
        "y_train.values"
      ],
      "metadata": {
        "colab": {
          "base_uri": "https://localhost:8080/"
        },
        "id": "UiMp6Qo3RGkI",
        "outputId": "29fbfc68-ef1d-4fe6-ae66-86195f028352"
      },
      "execution_count": null,
      "outputs": [
        {
          "output_type": "execute_result",
          "data": {
            "text/plain": [
              "array([1, 0, 1, ..., 0, 0, 1])"
            ]
          },
          "metadata": {},
          "execution_count": 140
        }
      ]
    },
    {
      "cell_type": "code",
      "source": [
        "model_reservas_7.compile(\n",
        "    optimizer = keras.optimizers.SGD(learning_rate = 0.01),\n",
        "    loss = 'binary_crossentropy', #Como mi salida es binaria uso binary_crossentropy\n",
        "\n",
        "      metrics=['AUC']\n",
        ")\n",
        "\n",
        "cant_epochs = 30\n",
        "h_model_reservas_7 = model_reservas_7.fit(x_train_scaled, y_train, epochs = cant_epochs, batch_size = 60, verbose = False )"
      ],
      "metadata": {
        "id": "gDv5L-H3RJvO"
      },
      "execution_count": null,
      "outputs": []
    },
    {
      "cell_type": "code",
      "source": [
        "y_predic_res = model_reservas_7.predict(x_test_scaled) #Realizamos el predict"
      ],
      "metadata": {
        "colab": {
          "base_uri": "https://localhost:8080/"
        },
        "id": "J9ood-xURM30",
        "outputId": "de85e74e-6a22-4903-9aae-05e1422e9b5d"
      },
      "execution_count": null,
      "outputs": [
        {
          "output_type": "stream",
          "name": "stdout",
          "text": [
            "579/579 [==============================] - 1s 2ms/step\n"
          ]
        }
      ]
    },
    {
      "cell_type": "code",
      "source": [
        "y_predic_ = model_reservas_7.predict(x_test_scaled)\n",
        "y_predic_cat = np.where(y_predic_>0.4,1,0) #Seteamos un corte en los datos para determinar si cancelo o no\n",
        "\n",
        "ds_validacion=pd.DataFrame(y_predic_cat,y_test).reset_index() #Armamos un dataset\n",
        "ds_validacion.columns=['y_pred','y_real'] #Nombramos las columnas"
      ],
      "metadata": {
        "colab": {
          "base_uri": "https://localhost:8080/"
        },
        "id": "hEyEpSnwRQxe",
        "outputId": "ca09f6b9-1ed0-4137-b6ed-3d96527a55c3"
      },
      "execution_count": null,
      "outputs": [
        {
          "output_type": "stream",
          "name": "stdout",
          "text": [
            "579/579 [==============================] - 1s 2ms/step\n"
          ]
        }
      ]
    },
    {
      "cell_type": "code",
      "source": [
        "metricas(ds_validacion.y_pred,ds_validacion.y_real) #Dividimos el dataset"
      ],
      "metadata": {
        "colab": {
          "base_uri": "https://localhost:8080/",
          "height": 606
        },
        "id": "ij2wfakETzpS",
        "outputId": "98ceb16c-c952-424d-a5a3-a4099f2e3a36"
      },
      "execution_count": null,
      "outputs": [
        {
          "output_type": "stream",
          "name": "stdout",
          "text": [
            "              precision    recall  f1-score   support\n",
            "\n",
            "           0       0.79      0.86      0.82      8516\n",
            "           1       0.87      0.80      0.84      9996\n",
            "\n",
            "    accuracy                           0.83     18512\n",
            "   macro avg       0.83      0.83      0.83     18512\n",
            "weighted avg       0.83      0.83      0.83     18512\n",
            "\n"
          ]
        },
        {
          "output_type": "display_data",
          "data": {
            "text/plain": [
              "<Figure size 640x480 with 2 Axes>"
            ],
            "image/png": "[encoded data removed]"
          },
          "metadata": {}
        }
      ]
    },
    {
      "cell_type": "markdown",
      "metadata": {
        "id": "I9e18NDSqzFB"
      },
      "source": [
        "# Importamos el test para la preddiccion en Kaggle\n",
        "\n",
        "\n"
      ]
    },
    {
      "cell_type": "code",
      "execution_count": null,
      "metadata": {
        "id": "7fqEp2LRsLOm"
      },
      "outputs": [],
      "source": [
        "ds_hotels_test = pd.read_csv(\"hotels_test.csv\")\n",
        "ds_h_test = ds_hotels_test.copy()"
      ]
    },
    {
      "cell_type": "code",
      "execution_count": null,
      "metadata": {
        "id": "GxBLjIKKsMdk"
      },
      "outputs": [],
      "source": [
        "ds_h_test.fillna(0, inplace=True)"
      ]
    },
    {
      "cell_type": "code",
      "execution_count": null,
      "metadata": {
        "id": "gpAtsBaMsNtj",
        "colab": {
          "base_uri": "https://localhost:8080/"
        },
        "outputId": "8d358d95-71b6-42d9-a0be-25aab4071f64"
      },
      "outputs": [
        {
          "output_type": "stream",
          "name": "stdout",
          "text": [
            "hotel                             0.0\n",
            "lead_time                         0.0\n",
            "arrival_date_year                 0.0\n",
            "arrival_date_month                0.0\n",
            "arrival_date_week_number          0.0\n",
            "arrival_date_day_of_month         0.0\n",
            "stays_in_weekend_nights           0.0\n",
            "stays_in_week_nights              0.0\n",
            "adults                            0.0\n",
            "children                          0.0\n",
            "babies                            0.0\n",
            "meal                              0.0\n",
            "country                           0.0\n",
            "market_segment                    0.0\n",
            "distribution_channel              0.0\n",
            "is_repeated_guest                 0.0\n",
            "previous_cancellations            0.0\n",
            "previous_bookings_not_canceled    0.0\n",
            "reserved_room_type                0.0\n",
            "assigned_room_type                0.0\n",
            "booking_changes                   0.0\n",
            "deposit_type                      0.0\n",
            "agent                             0.0\n",
            "company                           0.0\n",
            "days_in_waiting_list              0.0\n",
            "customer_type                     0.0\n",
            "adr                               0.0\n",
            "required_car_parking_spaces       0.0\n",
            "total_of_special_requests         0.0\n",
            "reservation_status_date           0.0\n",
            "id                                0.0\n",
            "dtype: float64\n"
          ]
        }
      ],
      "source": [
        "filas_totales=ds_hotels_test.shape[0]\n",
        "print(ds_h_test.isna().sum()/filas_totales*100)"
      ]
    },
    {
      "cell_type": "code",
      "execution_count": null,
      "metadata": {
        "id": "eqTY7R91sPd5"
      },
      "outputs": [],
      "source": [
        "month_number_in_season = {\n",
        "    'January': 0,\n",
        "    'February': 0,\n",
        "    'March': 0,\n",
        "    'April': 1,\n",
        "    'May': 1,\n",
        "    'June': 1,\n",
        "    'July': 1,\n",
        "    'August': 1,\n",
        "    'September': 1,\n",
        "    'October': 1,\n",
        "    'November': 0,\n",
        "    'December': 0\n",
        "}\n",
        "ds_h_test['arrival_date_month'] = ds_h_test['arrival_date_month'].map(month_number_in_season)"
      ]
    },
    {
      "cell_type": "code",
      "execution_count": null,
      "metadata": {
        "id": "pZ-_cELCsSNt"
      },
      "outputs": [],
      "source": [
        "country_counts  = ds_h_test[\"country\"].value_counts()\n",
        "\n",
        "# Obtenemos los 10 países principales\n",
        "top_10_countries = country_counts.head(10).index\n",
        "\n",
        "# Reemplazo los países que no están en el top 10 con \"otros\"\n",
        "ds_h_test[\"country\"] = ds_h_test[\"country\"].apply(lambda x: x if x in top_10_countries else \"otros\")"
      ]
    },
    {
      "cell_type": "code",
      "execution_count": null,
      "metadata": {
        "id": "Spw7I14HsTxS",
        "colab": {
          "base_uri": "https://localhost:8080/"
        },
        "outputId": "a926e862-ec2d-42dc-c5b9-4d015e5ae70f"
      },
      "outputs": [
        {
          "output_type": "execute_result",
          "data": {
            "text/plain": [
              "hotel                             False\n",
              "lead_time                         False\n",
              "arrival_date_year                 False\n",
              "arrival_date_month                False\n",
              "arrival_date_week_number          False\n",
              "arrival_date_day_of_month         False\n",
              "stays_in_weekend_nights           False\n",
              "stays_in_week_nights              False\n",
              "adults                            False\n",
              "children                          False\n",
              "babies                            False\n",
              "meal                              False\n",
              "country                           False\n",
              "market_segment                    False\n",
              "distribution_channel              False\n",
              "is_repeated_guest                 False\n",
              "previous_cancellations            False\n",
              "previous_bookings_not_canceled    False\n",
              "reserved_room_type                False\n",
              "assigned_room_type                False\n",
              "booking_changes                   False\n",
              "deposit_type                      False\n",
              "agent                             False\n",
              "company                           False\n",
              "days_in_waiting_list              False\n",
              "customer_type                     False\n",
              "adr                               False\n",
              "required_car_parking_spaces       False\n",
              "total_of_special_requests         False\n",
              "reservation_status_date           False\n",
              "id                                False\n",
              "dtype: bool"
            ]
          },
          "metadata": {},
          "execution_count": 201
        }
      ],
      "source": [
        "ds_h_test.isna().any()"
      ]
    },
    {
      "cell_type": "code",
      "execution_count": null,
      "metadata": {
        "id": "efYpoQ4msYRQ",
        "colab": {
          "base_uri": "https://localhost:8080/"
        },
        "outputId": "58e2fc76-a4c7-4b46-a2f1-645ae0a29e26"
      },
      "outputs": [
        {
          "output_type": "execute_result",
          "data": {
            "text/plain": [
              "hotel                               0\n",
              "lead_time                           0\n",
              "arrival_date_year                   0\n",
              "arrival_date_month                  0\n",
              "arrival_date_week_number            0\n",
              "arrival_date_day_of_month           0\n",
              "stays_in_weekend_nights             0\n",
              "stays_in_week_nights                0\n",
              "adults                              0\n",
              "children                            0\n",
              "babies                              0\n",
              "meal                              238\n",
              "country                             0\n",
              "market_segment                      0\n",
              "distribution_channel                0\n",
              "is_repeated_guest                   0\n",
              "previous_cancellations              0\n",
              "previous_bookings_not_canceled      0\n",
              "reserved_room_type                  0\n",
              "assigned_room_type                  0\n",
              "booking_changes                     0\n",
              "deposit_type                        0\n",
              "agent                               0\n",
              "company                             0\n",
              "days_in_waiting_list                0\n",
              "customer_type                       0\n",
              "adr                                 0\n",
              "required_car_parking_spaces         0\n",
              "total_of_special_requests           0\n",
              "reservation_status_date             0\n",
              "id                                  0\n",
              "dtype: int64"
            ]
          },
          "metadata": {},
          "execution_count": 202
        }
      ],
      "source": [
        "ds_h_test.isin(['Undefined']).sum()"
      ]
    },
    {
      "cell_type": "code",
      "execution_count": null,
      "metadata": {
        "id": "xgzJfPZnsZ2J",
        "colab": {
          "base_uri": "https://localhost:8080/",
          "height": 270
        },
        "outputId": "95f0d60e-6024-4a50-f999-9ef19446daec"
      },
      "outputs": [
        {
          "output_type": "execute_result",
          "data": {
            "text/plain": [
              "   lead_time  arrival_date_year  arrival_date_week_number  \\\n",
              "0        277               2016                        46   \n",
              "1        286               2016                        20   \n",
              "2          0               2016                        35   \n",
              "3        196               2016                        44   \n",
              "4        232               2016                        48   \n",
              "\n",
              "   arrival_date_day_of_month  stays_in_weekend_nights  stays_in_week_nights  \\\n",
              "0                          7                        1                     2   \n",
              "1                         11                        0                     4   \n",
              "2                         23                        0                     1   \n",
              "3                         29                        2                     5   \n",
              "4                         26                        2                     1   \n",
              "\n",
              "   adults  children  babies  is_repeated_guest  ...  assigned_room_type_G  \\\n",
              "0       2       0.0       0                  0  ...                     0   \n",
              "1       2       0.0       0                  0  ...                     0   \n",
              "2       3       0.0       0                  0  ...                     0   \n",
              "3       2       2.0       0                  0  ...                     1   \n",
              "4       2       0.0       0                  0  ...                     0   \n",
              "\n",
              "   assigned_room_type_H  assigned_room_type_I  assigned_room_type_K  \\\n",
              "0                     0                     0                     0   \n",
              "1                     0                     0                     0   \n",
              "2                     0                     0                     0   \n",
              "3                     0                     0                     0   \n",
              "4                     0                     0                     0   \n",
              "\n",
              "   assigned_room_type_P  deposit_type_Non Refund  deposit_type_Refundable  \\\n",
              "0                     0                        1                        0   \n",
              "1                     0                        0                        0   \n",
              "2                     0                        0                        0   \n",
              "3                     0                        0                        0   \n",
              "4                     0                        1                        0   \n",
              "\n",
              "   customer_type_Group  customer_type_Transient customer_type_Transient-Party  \n",
              "0                    0                        1                             0  \n",
              "1                    0                        0                             1  \n",
              "2                    0                        1                             0  \n",
              "3                    0                        1                             0  \n",
              "4                    0                        1                             0  \n",
              "\n",
              "[5 rows x 70 columns]"
            ],
            "text/html": [
              "\n",
              "  <div id=\"df-ff432d7b-9e0e-489f-a646-11a25eb41490\" class=\"colab-df-container\">\n",
              "    <div>\n",
              "<style scoped>\n",
              "    .dataframe tbody tr th:only-of-type {\n",
              "        vertical-align: middle;\n",
              "    }\n",
              "\n",
              "    .dataframe tbody tr th {\n",
              "        vertical-align: top;\n",
              "    }\n",
              "\n",
              "    .dataframe thead th {\n",
              "        text-align: right;\n",
              "    }\n",
              "</style>\n",
              "<table border=\"1\" class=\"dataframe\">\n",
              "  <thead>\n",
              "    <tr style=\"text-align: right;\">\n",
              "      <th></th>\n",
              "      <th>lead_time</th>\n",
              "      <th>arrival_date_year</th>\n",
              "      <th>arrival_date_week_number</th>\n",
              "      <th>arrival_date_day_of_month</th>\n",
              "      <th>stays_in_weekend_nights</th>\n",
              "      <th>stays_in_week_nights</th>\n",
              "      <th>adults</th>\n",
              "      <th>children</th>\n",
              "      <th>babies</th>\n",
              "      <th>is_repeated_guest</th>\n",
              "      <th>...</th>\n",
              "      <th>assigned_room_type_G</th>\n",
              "      <th>assigned_room_type_H</th>\n",
              "      <th>assigned_room_type_I</th>\n",
              "      <th>assigned_room_type_K</th>\n",
              "      <th>assigned_room_type_P</th>\n",
              "      <th>deposit_type_Non Refund</th>\n",
              "      <th>deposit_type_Refundable</th>\n",
              "      <th>customer_type_Group</th>\n",
              "      <th>customer_type_Transient</th>\n",
              "      <th>customer_type_Transient-Party</th>\n",
              "    </tr>\n",
              "  </thead>\n",
              "  <tbody>\n",
              "    <tr>\n",
              "      <th>0</th>\n",
              "      <td>277</td>\n",
              "      <td>2016</td>\n",
              "      <td>46</td>\n",
              "      <td>7</td>\n",
              "      <td>1</td>\n",
              "      <td>2</td>\n",
              "      <td>2</td>\n",
              "      <td>0.0</td>\n",
              "      <td>0</td>\n",
              "      <td>0</td>\n",
              "      <td>...</td>\n",
              "      <td>0</td>\n",
              "      <td>0</td>\n",
              "      <td>0</td>\n",
              "      <td>0</td>\n",
              "      <td>0</td>\n",
              "      <td>1</td>\n",
              "      <td>0</td>\n",
              "      <td>0</td>\n",
              "      <td>1</td>\n",
              "      <td>0</td>\n",
              "    </tr>\n",
              "    <tr>\n",
              "      <th>1</th>\n",
              "      <td>286</td>\n",
              "      <td>2016</td>\n",
              "      <td>20</td>\n",
              "      <td>11</td>\n",
              "      <td>0</td>\n",
              "      <td>4</td>\n",
              "      <td>2</td>\n",
              "      <td>0.0</td>\n",
              "      <td>0</td>\n",
              "      <td>0</td>\n",
              "      <td>...</td>\n",
              "      <td>0</td>\n",
              "      <td>0</td>\n",
              "      <td>0</td>\n",
              "      <td>0</td>\n",
              "      <td>0</td>\n",
              "      <td>0</td>\n",
              "      <td>0</td>\n",
              "      <td>0</td>\n",
              "      <td>0</td>\n",
              "      <td>1</td>\n",
              "    </tr>\n",
              "    <tr>\n",
              "      <th>2</th>\n",
              "      <td>0</td>\n",
              "      <td>2016</td>\n",
              "      <td>35</td>\n",
              "      <td>23</td>\n",
              "      <td>0</td>\n",
              "      <td>1</td>\n",
              "      <td>3</td>\n",
              "      <td>0.0</td>\n",
              "      <td>0</td>\n",
              "      <td>0</td>\n",
              "      <td>...</td>\n",
              "      <td>0</td>\n",
              "      <td>0</td>\n",
              "      <td>0</td>\n",
              "      <td>0</td>\n",
              "      <td>0</td>\n",
              "      <td>0</td>\n",
              "      <td>0</td>\n",
              "      <td>0</td>\n",
              "      <td>1</td>\n",
              "      <td>0</td>\n",
              "    </tr>\n",
              "    <tr>\n",
              "      <th>3</th>\n",
              "      <td>196</td>\n",
              "      <td>2016</td>\n",
              "      <td>44</td>\n",
              "      <td>29</td>\n",
              "      <td>2</td>\n",
              "      <td>5</td>\n",
              "      <td>2</td>\n",
              "      <td>2.0</td>\n",
              "      <td>0</td>\n",
              "      <td>0</td>\n",
              "      <td>...</td>\n",
              "      <td>1</td>\n",
              "      <td>0</td>\n",
              "      <td>0</td>\n",
              "      <td>0</td>\n",
              "      <td>0</td>\n",
              "      <td>0</td>\n",
              "      <td>0</td>\n",
              "      <td>0</td>\n",
              "      <td>1</td>\n",
              "      <td>0</td>\n",
              "    </tr>\n",
              "    <tr>\n",
              "      <th>4</th>\n",
              "      <td>232</td>\n",
              "      <td>2016</td>\n",
              "      <td>48</td>\n",
              "      <td>26</td>\n",
              "      <td>2</td>\n",
              "      <td>1</td>\n",
              "      <td>2</td>\n",
              "      <td>0.0</td>\n",
              "      <td>0</td>\n",
              "      <td>0</td>\n",
              "      <td>...</td>\n",
              "      <td>0</td>\n",
              "      <td>0</td>\n",
              "      <td>0</td>\n",
              "      <td>0</td>\n",
              "      <td>0</td>\n",
              "      <td>1</td>\n",
              "      <td>0</td>\n",
              "      <td>0</td>\n",
              "      <td>1</td>\n",
              "      <td>0</td>\n",
              "    </tr>\n",
              "  </tbody>\n",
              "</table>\n",
              "<p>5 rows × 70 columns</p>\n",
              "</div>\n",
              "    <div class=\"colab-df-buttons\">\n",
              "\n",
              "  <div class=\"colab-df-container\">\n",
              "    <button class=\"colab-df-convert\" onclick=\"convertToInteractive('df-ff432d7b-9e0e-489f-a646-11a25eb41490')\"\n",
              "            title=\"Convert this dataframe to an interactive table.\"\n",
              "            style=\"display:none;\">\n",
              "\n",
              "  <svg xmlns=\"http://www.w3.org/2000/svg\" height=\"24px\" viewBox=\"0 -960 960 960\">\n",
              "    <path d=\"M120-120v-720h720v720H120Zm60-500h600v-160H180v160Zm220 220h160v-160H400v160Zm0 220h160v-160H400v160ZM180-400h160v-160H180v160Zm440 0h160v-160H620v160ZM180-180h160v-160H180v160Zm440 0h160v-160H620v160Z\"/>\n",
              "  </svg>\n",
              "    </button>\n",
              "\n",
              "  <style>\n",
              "    .colab-df-container {\n",
              "      display:flex;\n",
              "      gap: 12px;\n",
              "    }\n",
              "\n",
              "    .colab-df-convert {\n",
              "      background-color: #E8F0FE;\n",
              "      border: none;\n",
              "      border-radius: 50%;\n",
              "      cursor: pointer;\n",
              "      display: none;\n",
              "      fill: #1967D2;\n",
              "      height: 32px;\n",
              "      padding: 0 0 0 0;\n",
              "      width: 32px;\n",
              "    }\n",
              "\n",
              "    .colab-df-convert:hover {\n",
              "      background-color: #E2EBFA;\n",
              "      box-shadow: 0px 1px 2px rgba(60, 64, 67, 0.3), 0px 1px 3px 1px rgba(60, 64, 67, 0.15);\n",
              "      fill: #174EA6;\n",
              "    }\n",
              "\n",
              "    .colab-df-buttons div {\n",
              "      margin-bottom: 4px;\n",
              "    }\n",
              "\n",
              "    [theme=dark] .colab-df-convert {\n",
              "      background-color: #3B4455;\n",
              "      fill: #D2E3FC;\n",
              "    }\n",
              "\n",
              "    [theme=dark] .colab-df-convert:hover {\n",
              "      background-color: #434B5C;\n",
              "      box-shadow: 0px 1px 3px 1px rgba(0, 0, 0, 0.15);\n",
              "      filter: drop-shadow(0px 1px 2px rgba(0, 0, 0, 0.3));\n",
              "      fill: #FFFFFF;\n",
              "    }\n",
              "  </style>\n",
              "\n",
              "    <script>\n",
              "      const buttonEl =\n",
              "        document.querySelector('#df-ff432d7b-9e0e-489f-a646-11a25eb41490 button.colab-df-convert');\n",
              "      buttonEl.style.display =\n",
              "        google.colab.kernel.accessAllowed ? 'block' : 'none';\n",
              "\n",
              "      async function convertToInteractive(key) {\n",
              "        const element = document.querySelector('#df-ff432d7b-9e0e-489f-a646-11a25eb41490');\n",
              "        const dataTable =\n",
              "          await google.colab.kernel.invokeFunction('convertToInteractive',\n",
              "                                                    [key], {});\n",
              "        if (!dataTable) return;\n",
              "\n",
              "        const docLinkHtml = 'Like what you see? Visit the ' +\n",
              "          '<a target=\"_blank\" href=https://colab.research.google.com/notebooks/data_table.ipynb>data table notebook</a>'\n",
              "          + ' to learn more about interactive tables.';\n",
              "        element.innerHTML = '';\n",
              "        dataTable['output_type'] = 'display_data';\n",
              "        await google.colab.output.renderOutput(dataTable, element);\n",
              "        const docLink = document.createElement('div');\n",
              "        docLink.innerHTML = docLinkHtml;\n",
              "        element.appendChild(docLink);\n",
              "      }\n",
              "    </script>\n",
              "  </div>\n",
              "\n",
              "\n",
              "<div id=\"df-67afcd28-80e5-4950-a926-9355616f13f7\">\n",
              "  <button class=\"colab-df-quickchart\" onclick=\"quickchart('df-67afcd28-80e5-4950-a926-9355616f13f7')\"\n",
              "            title=\"Suggest charts.\"\n",
              "            style=\"display:none;\">\n",
              "\n",
              "<svg xmlns=\"http://www.w3.org/2000/svg\" height=\"24px\"viewBox=\"0 0 24 24\"\n",
              "     width=\"24px\">\n",
              "    <g>\n",
              "        <path d=\"M19 3H5c-1.1 0-2 .9-2 2v14c0 1.1.9 2 2 2h14c1.1 0 2-.9 2-2V5c0-1.1-.9-2-2-2zM9 17H7v-7h2v7zm4 0h-2V7h2v10zm4 0h-2v-4h2v4z\"/>\n",
              "    </g>\n",
              "</svg>\n",
              "  </button>\n",
              "\n",
              "<style>\n",
              "  .colab-df-quickchart {\n",
              "      --bg-color: #E8F0FE;\n",
              "      --fill-color: #1967D2;\n",
              "      --hover-bg-color: #E2EBFA;\n",
              "      --hover-fill-color: #174EA6;\n",
              "      --disabled-fill-color: #AAA;\n",
              "      --disabled-bg-color: #DDD;\n",
              "  }\n",
              "\n",
              "  [theme=dark] .colab-df-quickchart {\n",
              "      --bg-color: #3B4455;\n",
              "      --fill-color: #D2E3FC;\n",
              "      --hover-bg-color: #434B5C;\n",
              "      --hover-fill-color: #FFFFFF;\n",
              "      --disabled-bg-color: #3B4455;\n",
              "      --disabled-fill-color: #666;\n",
              "  }\n",
              "\n",
              "  .colab-df-quickchart {\n",
              "    background-color: var(--bg-color);\n",
              "    border: none;\n",
              "    border-radius: 50%;\n",
              "    cursor: pointer;\n",
              "    display: none;\n",
              "    fill: var(--fill-color);\n",
              "    height: 32px;\n",
              "    padding: 0;\n",
              "    width: 32px;\n",
              "  }\n",
              "\n",
              "  .colab-df-quickchart:hover {\n",
              "    background-color: var(--hover-bg-color);\n",
              "    box-shadow: 0 1px 2px rgba(60, 64, 67, 0.3), 0 1px 3px 1px rgba(60, 64, 67, 0.15);\n",
              "    fill: var(--button-hover-fill-color);\n",
              "  }\n",
              "\n",
              "  .colab-df-quickchart-complete:disabled,\n",
              "  .colab-df-quickchart-complete:disabled:hover {\n",
              "    background-color: var(--disabled-bg-color);\n",
              "    fill: var(--disabled-fill-color);\n",
              "    box-shadow: none;\n",
              "  }\n",
              "\n",
              "  .colab-df-spinner {\n",
              "    border: 2px solid var(--fill-color);\n",
              "    border-color: transparent;\n",
              "    border-bottom-color: var(--fill-color);\n",
              "    animation:\n",
              "      spin 1s steps(1) infinite;\n",
              "  }\n",
              "\n",
              "  @keyframes spin {\n",
              "    0% {\n",
              "      border-color: transparent;\n",
              "      border-bottom-color: var(--fill-color);\n",
              "      border-left-color: var(--fill-color);\n",
              "    }\n",
              "    20% {\n",
              "      border-color: transparent;\n",
              "      border-left-color: var(--fill-color);\n",
              "      border-top-color: var(--fill-color);\n",
              "    }\n",
              "    30% {\n",
              "      border-color: transparent;\n",
              "      border-left-color: var(--fill-color);\n",
              "      border-top-color: var(--fill-color);\n",
              "      border-right-color: var(--fill-color);\n",
              "    }\n",
              "    40% {\n",
              "      border-color: transparent;\n",
              "      border-right-color: var(--fill-color);\n",
              "      border-top-color: var(--fill-color);\n",
              "    }\n",
              "    60% {\n",
              "      border-color: transparent;\n",
              "      border-right-color: var(--fill-color);\n",
              "    }\n",
              "    80% {\n",
              "      border-color: transparent;\n",
              "      border-right-color: var(--fill-color);\n",
              "      border-bottom-color: var(--fill-color);\n",
              "    }\n",
              "    90% {\n",
              "      border-color: transparent;\n",
              "      border-bottom-color: var(--fill-color);\n",
              "    }\n",
              "  }\n",
              "</style>\n",
              "\n",
              "  <script>\n",
              "    async function quickchart(key) {\n",
              "      const quickchartButtonEl =\n",
              "        document.querySelector('#' + key + ' button');\n",
              "      quickchartButtonEl.disabled = true;  // To prevent multiple clicks.\n",
              "      quickchartButtonEl.classList.add('colab-df-spinner');\n",
              "      try {\n",
              "        const charts = await google.colab.kernel.invokeFunction(\n",
              "            'suggestCharts', [key], {});\n",
              "      } catch (error) {\n",
              "        console.error('Error during call to suggestCharts:', error);\n",
              "      }\n",
              "      quickchartButtonEl.classList.remove('colab-df-spinner');\n",
              "      quickchartButtonEl.classList.add('colab-df-quickchart-complete');\n",
              "    }\n",
              "    (() => {\n",
              "      let quickchartButtonEl =\n",
              "        document.querySelector('#df-67afcd28-80e5-4950-a926-9355616f13f7 button');\n",
              "      quickchartButtonEl.style.display =\n",
              "        google.colab.kernel.accessAllowed ? 'block' : 'none';\n",
              "    })();\n",
              "  </script>\n",
              "</div>\n",
              "    </div>\n",
              "  </div>\n"
            ]
          },
          "metadata": {},
          "execution_count": 203
        }
      ],
      "source": [
        "#One hot encoding para variables categoricas\n",
        "var_cual = [\"hotel\", \"arrival_date_month\", \"meal\", \"country\", \"market_segment\",\n",
        "\"distribution_channel\", \"reserved_room_type\", \"assigned_room_type\", \"deposit_type\",\n",
        "\"customer_type\"]\n",
        "ds_h_test = pd.get_dummies(ds_h_test, columns=var_cual, drop_first=True)\n",
        "\n",
        "ds_h_test.head()"
      ]
    },
    {
      "cell_type": "code",
      "execution_count": null,
      "metadata": {
        "id": "JiXMORZ2scD3",
        "colab": {
          "base_uri": "https://localhost:8080/"
        },
        "outputId": "f64a7c85-9a1a-474f-987c-e938b06f809c"
      },
      "outputs": [
        {
          "output_type": "stream",
          "name": "stdout",
          "text": [
            "lead_time                        0.0\n",
            "arrival_date_year                0.0\n",
            "arrival_date_week_number         0.0\n",
            "arrival_date_day_of_month        0.0\n",
            "stays_in_weekend_nights          0.0\n",
            "                                ... \n",
            "deposit_type_Non Refund          0.0\n",
            "deposit_type_Refundable          0.0\n",
            "customer_type_Group              0.0\n",
            "customer_type_Transient          0.0\n",
            "customer_type_Transient-Party    0.0\n",
            "Length: 70, dtype: float64\n"
          ]
        }
      ],
      "source": [
        "print(ds_h_test.isna().sum()/filas_totales*100)"
      ]
    },
    {
      "cell_type": "code",
      "execution_count": null,
      "metadata": {
        "id": "wKAH0HxAskPa",
        "colab": {
          "base_uri": "https://localhost:8080/",
          "height": 270
        },
        "outputId": "e46c6625-c018-49fb-91f8-e5bada1217a9"
      },
      "outputs": [
        {
          "output_type": "execute_result",
          "data": {
            "text/plain": [
              "   lead_time  arrival_date_year  arrival_date_day_of_month  \\\n",
              "0        277               2016                          7   \n",
              "1        286               2016                         11   \n",
              "2          0               2016                         23   \n",
              "3        196               2016                         29   \n",
              "4        232               2016                         26   \n",
              "\n",
              "   stays_in_weekend_nights  stays_in_week_nights  adults  children  babies  \\\n",
              "0                        1                     2       2       0.0       0   \n",
              "1                        0                     4       2       0.0       0   \n",
              "2                        0                     1       3       0.0       0   \n",
              "3                        2                     5       2       2.0       0   \n",
              "4                        2                     1       2       0.0       0   \n",
              "\n",
              "   is_repeated_guest  previous_cancellations  ...  assigned_room_type_G  \\\n",
              "0                  0                       0  ...                     0   \n",
              "1                  0                       0  ...                     0   \n",
              "2                  0                       0  ...                     0   \n",
              "3                  0                       0  ...                     1   \n",
              "4                  0                       0  ...                     0   \n",
              "\n",
              "   assigned_room_type_H  assigned_room_type_I  assigned_room_type_K  \\\n",
              "0                     0                     0                     0   \n",
              "1                     0                     0                     0   \n",
              "2                     0                     0                     0   \n",
              "3                     0                     0                     0   \n",
              "4                     0                     0                     0   \n",
              "\n",
              "   assigned_room_type_L  deposit_type_Non Refund  deposit_type_Refundable  \\\n",
              "0                 False                        1                        0   \n",
              "1                 False                        0                        0   \n",
              "2                 False                        0                        0   \n",
              "3                 False                        0                        0   \n",
              "4                 False                        1                        0   \n",
              "\n",
              "   customer_type_Group  customer_type_Transient  customer_type_Transient-Party  \n",
              "0                    0                        1                              0  \n",
              "1                    0                        0                              1  \n",
              "2                    0                        1                              0  \n",
              "3                    0                        1                              0  \n",
              "4                    0                        1                              0  \n",
              "\n",
              "[5 rows x 69 columns]"
            ],
            "text/html": [
              "\n",
              "  <div id=\"df-02344cdf-6b8d-40f5-9b3b-422c2fe888cd\" class=\"colab-df-container\">\n",
              "    <div>\n",
              "<style scoped>\n",
              "    .dataframe tbody tr th:only-of-type {\n",
              "        vertical-align: middle;\n",
              "    }\n",
              "\n",
              "    .dataframe tbody tr th {\n",
              "        vertical-align: top;\n",
              "    }\n",
              "\n",
              "    .dataframe thead th {\n",
              "        text-align: right;\n",
              "    }\n",
              "</style>\n",
              "<table border=\"1\" class=\"dataframe\">\n",
              "  <thead>\n",
              "    <tr style=\"text-align: right;\">\n",
              "      <th></th>\n",
              "      <th>lead_time</th>\n",
              "      <th>arrival_date_year</th>\n",
              "      <th>arrival_date_day_of_month</th>\n",
              "      <th>stays_in_weekend_nights</th>\n",
              "      <th>stays_in_week_nights</th>\n",
              "      <th>adults</th>\n",
              "      <th>children</th>\n",
              "      <th>babies</th>\n",
              "      <th>is_repeated_guest</th>\n",
              "      <th>previous_cancellations</th>\n",
              "      <th>...</th>\n",
              "      <th>assigned_room_type_G</th>\n",
              "      <th>assigned_room_type_H</th>\n",
              "      <th>assigned_room_type_I</th>\n",
              "      <th>assigned_room_type_K</th>\n",
              "      <th>assigned_room_type_L</th>\n",
              "      <th>deposit_type_Non Refund</th>\n",
              "      <th>deposit_type_Refundable</th>\n",
              "      <th>customer_type_Group</th>\n",
              "      <th>customer_type_Transient</th>\n",
              "      <th>customer_type_Transient-Party</th>\n",
              "    </tr>\n",
              "  </thead>\n",
              "  <tbody>\n",
              "    <tr>\n",
              "      <th>0</th>\n",
              "      <td>277</td>\n",
              "      <td>2016</td>\n",
              "      <td>7</td>\n",
              "      <td>1</td>\n",
              "      <td>2</td>\n",
              "      <td>2</td>\n",
              "      <td>0.0</td>\n",
              "      <td>0</td>\n",
              "      <td>0</td>\n",
              "      <td>0</td>\n",
              "      <td>...</td>\n",
              "      <td>0</td>\n",
              "      <td>0</td>\n",
              "      <td>0</td>\n",
              "      <td>0</td>\n",
              "      <td>False</td>\n",
              "      <td>1</td>\n",
              "      <td>0</td>\n",
              "      <td>0</td>\n",
              "      <td>1</td>\n",
              "      <td>0</td>\n",
              "    </tr>\n",
              "    <tr>\n",
              "      <th>1</th>\n",
              "      <td>286</td>\n",
              "      <td>2016</td>\n",
              "      <td>11</td>\n",
              "      <td>0</td>\n",
              "      <td>4</td>\n",
              "      <td>2</td>\n",
              "      <td>0.0</td>\n",
              "      <td>0</td>\n",
              "      <td>0</td>\n",
              "      <td>0</td>\n",
              "      <td>...</td>\n",
              "      <td>0</td>\n",
              "      <td>0</td>\n",
              "      <td>0</td>\n",
              "      <td>0</td>\n",
              "      <td>False</td>\n",
              "      <td>0</td>\n",
              "      <td>0</td>\n",
              "      <td>0</td>\n",
              "      <td>0</td>\n",
              "      <td>1</td>\n",
              "    </tr>\n",
              "    <tr>\n",
              "      <th>2</th>\n",
              "      <td>0</td>\n",
              "      <td>2016</td>\n",
              "      <td>23</td>\n",
              "      <td>0</td>\n",
              "      <td>1</td>\n",
              "      <td>3</td>\n",
              "      <td>0.0</td>\n",
              "      <td>0</td>\n",
              "      <td>0</td>\n",
              "      <td>0</td>\n",
              "      <td>...</td>\n",
              "      <td>0</td>\n",
              "      <td>0</td>\n",
              "      <td>0</td>\n",
              "      <td>0</td>\n",
              "      <td>False</td>\n",
              "      <td>0</td>\n",
              "      <td>0</td>\n",
              "      <td>0</td>\n",
              "      <td>1</td>\n",
              "      <td>0</td>\n",
              "    </tr>\n",
              "    <tr>\n",
              "      <th>3</th>\n",
              "      <td>196</td>\n",
              "      <td>2016</td>\n",
              "      <td>29</td>\n",
              "      <td>2</td>\n",
              "      <td>5</td>\n",
              "      <td>2</td>\n",
              "      <td>2.0</td>\n",
              "      <td>0</td>\n",
              "      <td>0</td>\n",
              "      <td>0</td>\n",
              "      <td>...</td>\n",
              "      <td>1</td>\n",
              "      <td>0</td>\n",
              "      <td>0</td>\n",
              "      <td>0</td>\n",
              "      <td>False</td>\n",
              "      <td>0</td>\n",
              "      <td>0</td>\n",
              "      <td>0</td>\n",
              "      <td>1</td>\n",
              "      <td>0</td>\n",
              "    </tr>\n",
              "    <tr>\n",
              "      <th>4</th>\n",
              "      <td>232</td>\n",
              "      <td>2016</td>\n",
              "      <td>26</td>\n",
              "      <td>2</td>\n",
              "      <td>1</td>\n",
              "      <td>2</td>\n",
              "      <td>0.0</td>\n",
              "      <td>0</td>\n",
              "      <td>0</td>\n",
              "      <td>0</td>\n",
              "      <td>...</td>\n",
              "      <td>0</td>\n",
              "      <td>0</td>\n",
              "      <td>0</td>\n",
              "      <td>0</td>\n",
              "      <td>False</td>\n",
              "      <td>1</td>\n",
              "      <td>0</td>\n",
              "      <td>0</td>\n",
              "      <td>1</td>\n",
              "      <td>0</td>\n",
              "    </tr>\n",
              "  </tbody>\n",
              "</table>\n",
              "<p>5 rows × 69 columns</p>\n",
              "</div>\n",
              "    <div class=\"colab-df-buttons\">\n",
              "\n",
              "  <div class=\"colab-df-container\">\n",
              "    <button class=\"colab-df-convert\" onclick=\"convertToInteractive('df-02344cdf-6b8d-40f5-9b3b-422c2fe888cd')\"\n",
              "            title=\"Convert this dataframe to an interactive table.\"\n",
              "            style=\"display:none;\">\n",
              "\n",
              "  <svg xmlns=\"http://www.w3.org/2000/svg\" height=\"24px\" viewBox=\"0 -960 960 960\">\n",
              "    <path d=\"M120-120v-720h720v720H120Zm60-500h600v-160H180v160Zm220 220h160v-160H400v160Zm0 220h160v-160H400v160ZM180-400h160v-160H180v160Zm440 0h160v-160H620v160ZM180-180h160v-160H180v160Zm440 0h160v-160H620v160Z\"/>\n",
              "  </svg>\n",
              "    </button>\n",
              "\n",
              "  <style>\n",
              "    .colab-df-container {\n",
              "      display:flex;\n",
              "      gap: 12px;\n",
              "    }\n",
              "\n",
              "    .colab-df-convert {\n",
              "      background-color: #E8F0FE;\n",
              "      border: none;\n",
              "      border-radius: 50%;\n",
              "      cursor: pointer;\n",
              "      display: none;\n",
              "      fill: #1967D2;\n",
              "      height: 32px;\n",
              "      padding: 0 0 0 0;\n",
              "      width: 32px;\n",
              "    }\n",
              "\n",
              "    .colab-df-convert:hover {\n",
              "      background-color: #E2EBFA;\n",
              "      box-shadow: 0px 1px 2px rgba(60, 64, 67, 0.3), 0px 1px 3px 1px rgba(60, 64, 67, 0.15);\n",
              "      fill: #174EA6;\n",
              "    }\n",
              "\n",
              "    .colab-df-buttons div {\n",
              "      margin-bottom: 4px;\n",
              "    }\n",
              "\n",
              "    [theme=dark] .colab-df-convert {\n",
              "      background-color: #3B4455;\n",
              "      fill: #D2E3FC;\n",
              "    }\n",
              "\n",
              "    [theme=dark] .colab-df-convert:hover {\n",
              "      background-color: #434B5C;\n",
              "      box-shadow: 0px 1px 3px 1px rgba(0, 0, 0, 0.15);\n",
              "      filter: drop-shadow(0px 1px 2px rgba(0, 0, 0, 0.3));\n",
              "      fill: #FFFFFF;\n",
              "    }\n",
              "  </style>\n",
              "\n",
              "    <script>\n",
              "      const buttonEl =\n",
              "        document.querySelector('#df-02344cdf-6b8d-40f5-9b3b-422c2fe888cd button.colab-df-convert');\n",
              "      buttonEl.style.display =\n",
              "        google.colab.kernel.accessAllowed ? 'block' : 'none';\n",
              "\n",
              "      async function convertToInteractive(key) {\n",
              "        const element = document.querySelector('#df-02344cdf-6b8d-40f5-9b3b-422c2fe888cd');\n",
              "        const dataTable =\n",
              "          await google.colab.kernel.invokeFunction('convertToInteractive',\n",
              "                                                    [key], {});\n",
              "        if (!dataTable) return;\n",
              "\n",
              "        const docLinkHtml = 'Like what you see? Visit the ' +\n",
              "          '<a target=\"_blank\" href=https://colab.research.google.com/notebooks/data_table.ipynb>data table notebook</a>'\n",
              "          + ' to learn more about interactive tables.';\n",
              "        element.innerHTML = '';\n",
              "        dataTable['output_type'] = 'display_data';\n",
              "        await google.colab.output.renderOutput(dataTable, element);\n",
              "        const docLink = document.createElement('div');\n",
              "        docLink.innerHTML = docLinkHtml;\n",
              "        element.appendChild(docLink);\n",
              "      }\n",
              "    </script>\n",
              "  </div>\n",
              "\n",
              "\n",
              "<div id=\"df-89e92662-b6c5-47f0-a9ee-22edb00428bf\">\n",
              "  <button class=\"colab-df-quickchart\" onclick=\"quickchart('df-89e92662-b6c5-47f0-a9ee-22edb00428bf')\"\n",
              "            title=\"Suggest charts.\"\n",
              "            style=\"display:none;\">\n",
              "\n",
              "<svg xmlns=\"http://www.w3.org/2000/svg\" height=\"24px\"viewBox=\"0 0 24 24\"\n",
              "     width=\"24px\">\n",
              "    <g>\n",
              "        <path d=\"M19 3H5c-1.1 0-2 .9-2 2v14c0 1.1.9 2 2 2h14c1.1 0 2-.9 2-2V5c0-1.1-.9-2-2-2zM9 17H7v-7h2v7zm4 0h-2V7h2v10zm4 0h-2v-4h2v4z\"/>\n",
              "    </g>\n",
              "</svg>\n",
              "  </button>\n",
              "\n",
              "<style>\n",
              "  .colab-df-quickchart {\n",
              "      --bg-color: #E8F0FE;\n",
              "      --fill-color: #1967D2;\n",
              "      --hover-bg-color: #E2EBFA;\n",
              "      --hover-fill-color: #174EA6;\n",
              "      --disabled-fill-color: #AAA;\n",
              "      --disabled-bg-color: #DDD;\n",
              "  }\n",
              "\n",
              "  [theme=dark] .colab-df-quickchart {\n",
              "      --bg-color: #3B4455;\n",
              "      --fill-color: #D2E3FC;\n",
              "      --hover-bg-color: #434B5C;\n",
              "      --hover-fill-color: #FFFFFF;\n",
              "      --disabled-bg-color: #3B4455;\n",
              "      --disabled-fill-color: #666;\n",
              "  }\n",
              "\n",
              "  .colab-df-quickchart {\n",
              "    background-color: var(--bg-color);\n",
              "    border: none;\n",
              "    border-radius: 50%;\n",
              "    cursor: pointer;\n",
              "    display: none;\n",
              "    fill: var(--fill-color);\n",
              "    height: 32px;\n",
              "    padding: 0;\n",
              "    width: 32px;\n",
              "  }\n",
              "\n",
              "  .colab-df-quickchart:hover {\n",
              "    background-color: var(--hover-bg-color);\n",
              "    box-shadow: 0 1px 2px rgba(60, 64, 67, 0.3), 0 1px 3px 1px rgba(60, 64, 67, 0.15);\n",
              "    fill: var(--button-hover-fill-color);\n",
              "  }\n",
              "\n",
              "  .colab-df-quickchart-complete:disabled,\n",
              "  .colab-df-quickchart-complete:disabled:hover {\n",
              "    background-color: var(--disabled-bg-color);\n",
              "    fill: var(--disabled-fill-color);\n",
              "    box-shadow: none;\n",
              "  }\n",
              "\n",
              "  .colab-df-spinner {\n",
              "    border: 2px solid var(--fill-color);\n",
              "    border-color: transparent;\n",
              "    border-bottom-color: var(--fill-color);\n",
              "    animation:\n",
              "      spin 1s steps(1) infinite;\n",
              "  }\n",
              "\n",
              "  @keyframes spin {\n",
              "    0% {\n",
              "      border-color: transparent;\n",
              "      border-bottom-color: var(--fill-color);\n",
              "      border-left-color: var(--fill-color);\n",
              "    }\n",
              "    20% {\n",
              "      border-color: transparent;\n",
              "      border-left-color: var(--fill-color);\n",
              "      border-top-color: var(--fill-color);\n",
              "    }\n",
              "    30% {\n",
              "      border-color: transparent;\n",
              "      border-left-color: var(--fill-color);\n",
              "      border-top-color: var(--fill-color);\n",
              "      border-right-color: var(--fill-color);\n",
              "    }\n",
              "    40% {\n",
              "      border-color: transparent;\n",
              "      border-right-color: var(--fill-color);\n",
              "      border-top-color: var(--fill-color);\n",
              "    }\n",
              "    60% {\n",
              "      border-color: transparent;\n",
              "      border-right-color: var(--fill-color);\n",
              "    }\n",
              "    80% {\n",
              "      border-color: transparent;\n",
              "      border-right-color: var(--fill-color);\n",
              "      border-bottom-color: var(--fill-color);\n",
              "    }\n",
              "    90% {\n",
              "      border-color: transparent;\n",
              "      border-bottom-color: var(--fill-color);\n",
              "    }\n",
              "  }\n",
              "</style>\n",
              "\n",
              "  <script>\n",
              "    async function quickchart(key) {\n",
              "      const quickchartButtonEl =\n",
              "        document.querySelector('#' + key + ' button');\n",
              "      quickchartButtonEl.disabled = true;  // To prevent multiple clicks.\n",
              "      quickchartButtonEl.classList.add('colab-df-spinner');\n",
              "      try {\n",
              "        const charts = await google.colab.kernel.invokeFunction(\n",
              "            'suggestCharts', [key], {});\n",
              "      } catch (error) {\n",
              "        console.error('Error during call to suggestCharts:', error);\n",
              "      }\n",
              "      quickchartButtonEl.classList.remove('colab-df-spinner');\n",
              "      quickchartButtonEl.classList.add('colab-df-quickchart-complete');\n",
              "    }\n",
              "    (() => {\n",
              "      let quickchartButtonEl =\n",
              "        document.querySelector('#df-89e92662-b6c5-47f0-a9ee-22edb00428bf button');\n",
              "      quickchartButtonEl.style.display =\n",
              "        google.colab.kernel.accessAllowed ? 'block' : 'none';\n",
              "    })();\n",
              "  </script>\n",
              "</div>\n",
              "    </div>\n",
              "  </div>\n"
            ]
          },
          "metadata": {},
          "execution_count": 205
        }
      ],
      "source": [
        "diff_cols_df2 = set(hotels_tr.columns) - set(ds_h_test.columns)\n",
        "\n",
        "# Agrego las columnas faltantes en ds_h_test y las inicializo en false\n",
        "for col in diff_cols_df2:\n",
        "    ds_h_test[col] = np.False_\n",
        "\n",
        "# Solo me quedo con las columnas de ds_h_test que esten en ds\n",
        "df_test = ds_h_test[hotels_tr.columns]\n",
        "\n",
        "df_test.head()"
      ]
    },
    {
      "cell_type": "code",
      "execution_count": null,
      "metadata": {
        "id": "3v18ALHnslD8"
      },
      "outputs": [],
      "source": [
        "x_submit = df_test"
      ]
    },
    {
      "cell_type": "code",
      "execution_count": null,
      "metadata": {
        "id": "hzWELNl4swVE"
      },
      "outputs": [],
      "source": [
        "#Escalamos los datos de train de nuestro data set\n",
        "scaler = StandardScaler()\n",
        "x_submit_scaled = scaler.fit_transform(x_submit)"
      ]
    },
    {
      "cell_type": "markdown",
      "metadata": {
        "id": "pBe_mH2dsxUU"
      },
      "source": [
        "Prediccion"
      ]
    },
    {
      "cell_type": "code",
      "execution_count": null,
      "metadata": {
        "id": "oIRCFvQXuDo3"
      },
      "outputs": [],
      "source": [
        "model_reservas_7.save('rn.pkl') #guardamos el modelo"
      ]
    },
    {
      "cell_type": "code",
      "execution_count": null,
      "metadata": {
        "id": "Gf-ruko6sysd"
      },
      "outputs": [],
      "source": [
        "nn = tf.keras.models.load_model(\"rn.pkl\")"
      ]
    },
    {
      "cell_type": "code",
      "execution_count": null,
      "metadata": {
        "id": "qiZ6kzE6uRGB",
        "colab": {
          "base_uri": "https://localhost:8080/"
        },
        "outputId": "c28704a0-b8b7-4723-bf72-ecd497b6517b"
      },
      "outputs": [
        {
          "output_type": "stream",
          "name": "stdout",
          "text": [
            "830/830 [==============================] - 2s 2ms/step\n"
          ]
        }
      ],
      "source": [
        "y_pred_nn = nn.predict(x_submit_scaled)\n",
        "y_pred_nn = np.where(y_pred_nn>0.4,1,0) #Seteamos un corte en los datos para determinar si cancelo o no"
      ]
    },
    {
      "cell_type": "code",
      "execution_count": null,
      "metadata": {
        "id": "Tge3RGvKtJLZ",
        "colab": {
          "base_uri": "https://localhost:8080/"
        },
        "outputId": "cfb16ce8-94c5-460a-b4f7-8e136e78c9b6"
      },
      "outputs": [
        {
          "output_type": "execute_result",
          "data": {
            "text/plain": [
              "array([1, 1, 0, ..., 1, 1, 0])"
            ]
          },
          "metadata": {},
          "execution_count": 211
        }
      ],
      "source": [
        "y_pred_nn.flatten()"
      ]
    },
    {
      "cell_type": "markdown",
      "metadata": {
        "id": "csuxhGBZtL9w"
      },
      "source": [
        "submit"
      ]
    },
    {
      "cell_type": "code",
      "execution_count": null,
      "metadata": {
        "id": "F0VxjBE7AIFC"
      },
      "outputs": [],
      "source": [
        "ddf_submit_nn = pd.DataFrame({'id': ds_h_test['id'],'is_canceled':y_pred_nn.flatten()})\n",
        "df_submit_nn.to_csv('predict_kaggle.csv', index = False)"
      ]
    }
  ],
  "metadata": {
    "colab": {
      "provenance": [],
      "toc_visible": true
    },
    "kernelspec": {
      "display_name": "Python 3",
      "name": "python3"
    },
    "language_info": {
      "name": "python"
    }
  },
  "nbformat": 4,
  "nbformat_minor": 0
}